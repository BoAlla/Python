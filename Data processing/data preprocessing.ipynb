{
 "cells": [
  {
   "cell_type": "markdown",
   "id": "8721a99b",
   "metadata": {},
   "source": [
    "# Этап 1. Распознавание городов"
   ]
  },
  {
   "cell_type": "markdown",
   "id": "b686a2de",
   "metadata": {},
   "source": [
    "Следующая часть кода позволяет из неструктурированного адреса выделить название города. Результаты обработки помещаются в новые столбцы \"city_from\" и \"city_to\""
   ]
  },
  {
   "cell_type": "code",
   "execution_count": 214,
   "id": "b74f4139",
   "metadata": {},
   "outputs": [],
   "source": [
    "# Импортирование библиотек\n",
    "import pandas as pd\n",
    "import numpy as np\n",
    "import re"
   ]
  },
  {
   "cell_type": "code",
   "execution_count": 215,
   "id": "a4745fad",
   "metadata": {},
   "outputs": [],
   "source": [
    "# Загрузка файла с данными\n",
    "file = 'data_example.xlsx'\n",
    "data_tab = pd.read_excel(file)"
   ]
  },
  {
   "cell_type": "code",
   "execution_count": 216,
   "id": "3429cef3",
   "metadata": {},
   "outputs": [],
   "source": [
    "# Загрузка файла с городами\n",
    "spisok_gor_f = 'spisok_gorodov.xlsx'\n",
    "spisok_gor = pd.read_excel(spisok_gor_f)\n",
    "# Сортировка городов по количеству символов в названии\n",
    "spisok_gor.loc[:, 'num_sim']=spisok_gor.loc[:, 'Город'].str.len()\n",
    "spisok_gor=spisok_gor.sort_values(by=['num_sim'])"
   ]
  },
  {
   "cell_type": "code",
   "execution_count": 217,
   "id": "8e56a20a",
   "metadata": {},
   "outputs": [],
   "source": [
    "# Загрузка файла с исключениями для обработки опечаток и различных наименований одного города\n",
    "diction=pd.read_excel('exceptions.xlsx', index_col=1)\n",
    "diction.head()\n",
    "diction=diction['city'].to_dict()\n",
    "dict_val=list(diction.keys())"
   ]
  },
  {
   "cell_type": "code",
   "execution_count": 218,
   "id": "e3a2194c",
   "metadata": {},
   "outputs": [
    {
     "data": {
      "text/html": [
       "<div>\n",
       "<style scoped>\n",
       "    .dataframe tbody tr th:only-of-type {\n",
       "        vertical-align: middle;\n",
       "    }\n",
       "\n",
       "    .dataframe tbody tr th {\n",
       "        vertical-align: top;\n",
       "    }\n",
       "\n",
       "    .dataframe thead th {\n",
       "        text-align: right;\n",
       "    }\n",
       "</style>\n",
       "<table border=\"1\" class=\"dataframe\">\n",
       "  <thead>\n",
       "    <tr style=\"text-align: right;\">\n",
       "      <th></th>\n",
       "      <th>Unnamed: 0</th>\n",
       "      <th>Индекс</th>\n",
       "      <th>Регион</th>\n",
       "      <th>Тип района</th>\n",
       "      <th>Район</th>\n",
       "      <th>Тип города</th>\n",
       "      <th>Город</th>\n",
       "      <th>Тип н/п</th>\n",
       "      <th>Н/п</th>\n",
       "      <th>Код КЛАДР</th>\n",
       "      <th>...</th>\n",
       "      <th>Код ОКАТО</th>\n",
       "      <th>Код ОКТМО</th>\n",
       "      <th>Код ИФНС</th>\n",
       "      <th>Часовой пояс</th>\n",
       "      <th>Широта</th>\n",
       "      <th>Долгота</th>\n",
       "      <th>Федеральный округ</th>\n",
       "      <th>Население</th>\n",
       "      <th>дубликат</th>\n",
       "      <th>num_sim</th>\n",
       "    </tr>\n",
       "  </thead>\n",
       "  <tbody>\n",
       "    <tr>\n",
       "      <th>1134</th>\n",
       "      <td>NaN</td>\n",
       "      <td>NaN</td>\n",
       "      <td>Свердловская область</td>\n",
       "      <td>NaN</td>\n",
       "      <td>NaN</td>\n",
       "      <td>г</td>\n",
       "      <td>Реж</td>\n",
       "      <td>NaN</td>\n",
       "      <td>NaN</td>\n",
       "      <td>NaN</td>\n",
       "      <td>...</td>\n",
       "      <td>NaN</td>\n",
       "      <td>NaN</td>\n",
       "      <td>NaN</td>\n",
       "      <td>NaN</td>\n",
       "      <td>NaN</td>\n",
       "      <td>NaN</td>\n",
       "      <td>NaN</td>\n",
       "      <td>NaN</td>\n",
       "      <td>NaN</td>\n",
       "      <td>3</td>\n",
       "    </tr>\n",
       "    <tr>\n",
       "      <th>796</th>\n",
       "      <td>808.0</td>\n",
       "      <td>694490.0</td>\n",
       "      <td>Сахалинская область</td>\n",
       "      <td>р-н</td>\n",
       "      <td>Охинский</td>\n",
       "      <td>г</td>\n",
       "      <td>Оха</td>\n",
       "      <td>NaN</td>\n",
       "      <td>NaN</td>\n",
       "      <td>6.500900e+12</td>\n",
       "      <td>...</td>\n",
       "      <td>6.442500e+10</td>\n",
       "      <td>6.473600e+10</td>\n",
       "      <td>6517.0</td>\n",
       "      <td>UTC+11</td>\n",
       "      <td>53.586824</td>\n",
       "      <td>142.941221</td>\n",
       "      <td>Дальневосточный</td>\n",
       "      <td>23007</td>\n",
       "      <td>NaN</td>\n",
       "      <td>3</td>\n",
       "    </tr>\n",
       "    <tr>\n",
       "      <th>413</th>\n",
       "      <td>417.0</td>\n",
       "      <td>663920.0</td>\n",
       "      <td>Красноярский край</td>\n",
       "      <td>р-н</td>\n",
       "      <td>Уярский</td>\n",
       "      <td>г</td>\n",
       "      <td>Уяр</td>\n",
       "      <td>NaN</td>\n",
       "      <td>NaN</td>\n",
       "      <td>2.404100e+12</td>\n",
       "      <td>...</td>\n",
       "      <td>4.257501e+09</td>\n",
       "      <td>4.657101e+06</td>\n",
       "      <td>2448.0</td>\n",
       "      <td>UTC+7</td>\n",
       "      <td>55.813170</td>\n",
       "      <td>94.328215</td>\n",
       "      <td>Сибирский</td>\n",
       "      <td>12666</td>\n",
       "      <td>NaN</td>\n",
       "      <td>3</td>\n",
       "    </tr>\n",
       "    <tr>\n",
       "      <th>354</th>\n",
       "      <td>358.0</td>\n",
       "      <td>157000.0</td>\n",
       "      <td>Костромская область</td>\n",
       "      <td>р-н</td>\n",
       "      <td>Буйский</td>\n",
       "      <td>г</td>\n",
       "      <td>Буй</td>\n",
       "      <td>NaN</td>\n",
       "      <td>NaN</td>\n",
       "      <td>4.400300e+12</td>\n",
       "      <td>...</td>\n",
       "      <td>3.440500e+10</td>\n",
       "      <td>3.470500e+07</td>\n",
       "      <td>4437.0</td>\n",
       "      <td>UTC+3</td>\n",
       "      <td>58.473445</td>\n",
       "      <td>41.530675</td>\n",
       "      <td>Центральный</td>\n",
       "      <td>25763</td>\n",
       "      <td>NaN</td>\n",
       "      <td>3</td>\n",
       "    </tr>\n",
       "    <tr>\n",
       "      <th>689</th>\n",
       "      <td>699.0</td>\n",
       "      <td>618120.0</td>\n",
       "      <td>Пермский край</td>\n",
       "      <td>р-н</td>\n",
       "      <td>Осинский</td>\n",
       "      <td>г</td>\n",
       "      <td>Оса</td>\n",
       "      <td>NaN</td>\n",
       "      <td>NaN</td>\n",
       "      <td>5.901600e+12</td>\n",
       "      <td>...</td>\n",
       "      <td>5.724050e+10</td>\n",
       "      <td>5.764010e+10</td>\n",
       "      <td>5900.0</td>\n",
       "      <td>UTC+5</td>\n",
       "      <td>57.288999</td>\n",
       "      <td>55.468898</td>\n",
       "      <td>Приволжский</td>\n",
       "      <td>22420</td>\n",
       "      <td>NaN</td>\n",
       "      <td>3</td>\n",
       "    </tr>\n",
       "  </tbody>\n",
       "</table>\n",
       "<p>5 rows × 23 columns</p>\n",
       "</div>"
      ],
      "text/plain": [
       "      Unnamed: 0    Индекс                Регион Тип района     Район  \\\n",
       "1134         NaN       NaN  Свердловская область        NaN       NaN   \n",
       "796        808.0  694490.0   Сахалинская область        р-н  Охинский   \n",
       "413        417.0  663920.0     Красноярский край        р-н   Уярский   \n",
       "354        358.0  157000.0   Костромская область        р-н   Буйский   \n",
       "689        699.0  618120.0         Пермский край        р-н  Осинский   \n",
       "\n",
       "     Тип города Город Тип н/п  Н/п     Код КЛАДР  ...     Код ОКАТО  \\\n",
       "1134          г   Реж     NaN  NaN           NaN  ...           NaN   \n",
       "796           г   Оха     NaN  NaN  6.500900e+12  ...  6.442500e+10   \n",
       "413           г   Уяр     NaN  NaN  2.404100e+12  ...  4.257501e+09   \n",
       "354           г   Буй     NaN  NaN  4.400300e+12  ...  3.440500e+10   \n",
       "689           г   Оса     NaN  NaN  5.901600e+12  ...  5.724050e+10   \n",
       "\n",
       "         Код ОКТМО  Код ИФНС  Часовой пояс     Широта     Долгота  \\\n",
       "1134           NaN       NaN           NaN        NaN         NaN   \n",
       "796   6.473600e+10    6517.0        UTC+11  53.586824  142.941221   \n",
       "413   4.657101e+06    2448.0         UTC+7  55.813170   94.328215   \n",
       "354   3.470500e+07    4437.0         UTC+3  58.473445   41.530675   \n",
       "689   5.764010e+10    5900.0         UTC+5  57.288999   55.468898   \n",
       "\n",
       "     Федеральный округ  Население  дубликат num_sim  \n",
       "1134               NaN        NaN       NaN       3  \n",
       "796    Дальневосточный      23007       NaN       3  \n",
       "413          Сибирский      12666       NaN       3  \n",
       "354        Центральный      25763       NaN       3  \n",
       "689        Приволжский      22420       NaN       3  \n",
       "\n",
       "[5 rows x 23 columns]"
      ]
     },
     "execution_count": 218,
     "metadata": {},
     "output_type": "execute_result"
    }
   ],
   "source": [
    "spisok_gor.head()"
   ]
  },
  {
   "cell_type": "code",
   "execution_count": 219,
   "id": "b265bf0b",
   "metadata": {},
   "outputs": [
    {
     "data": {
      "text/html": [
       "<div>\n",
       "<style scoped>\n",
       "    .dataframe tbody tr th:only-of-type {\n",
       "        vertical-align: middle;\n",
       "    }\n",
       "\n",
       "    .dataframe tbody tr th {\n",
       "        vertical-align: top;\n",
       "    }\n",
       "\n",
       "    .dataframe thead th {\n",
       "        text-align: right;\n",
       "    }\n",
       "</style>\n",
       "<table border=\"1\" class=\"dataframe\">\n",
       "  <thead>\n",
       "    <tr style=\"text-align: right;\">\n",
       "      <th></th>\n",
       "      <th>ID</th>\n",
       "      <th>Город отгрузки</th>\n",
       "      <th>Город выгрузки</th>\n",
       "      <th>Количество грузовых мест</th>\n",
       "      <th>Габариты грузовых мест (Д*Ш*В), м</th>\n",
       "      <th>Общий вес груза, кг</th>\n",
       "      <th>ТИП ТС</th>\n",
       "    </tr>\n",
       "  </thead>\n",
       "  <tbody>\n",
       "    <tr>\n",
       "      <th>0</th>\n",
       "      <td>1</td>\n",
       "      <td>АО \"ЕЕЕ\"\\nАдрес: Нижегородская обл, Дзержинск ...</td>\n",
       "      <td>Грузополучатель: Общество с ограниченной ответ...</td>\n",
       "      <td>1</td>\n",
       "      <td>0,8х0,5х0,8</td>\n",
       "      <td>5,67 тн</td>\n",
       "      <td>до 0.5 тн</td>\n",
       "    </tr>\n",
       "    <tr>\n",
       "      <th>1</th>\n",
       "      <td>2</td>\n",
       "      <td>\"Торговое представительство АО \"\"ННН\"\" 467007,...</td>\n",
       "      <td>ООО \"Газпромнефть-Хантос\" ИНН 8618001111/КПП 9...</td>\n",
       "      <td>2</td>\n",
       "      <td>200*200*570, 900*870*650</td>\n",
       "      <td>750 кг.</td>\n",
       "      <td>от 3,1 до 5</td>\n",
       "    </tr>\n",
       "    <tr>\n",
       "      <th>2</th>\n",
       "      <td>3</td>\n",
       "      <td>АО \"УУУ\", фактический адрес склада: 133354 г.М...</td>\n",
       "      <td>623751, Свердловская область., Реж г., Калинин...</td>\n",
       "      <td>1</td>\n",
       "      <td>1.2*0.8*0,66</td>\n",
       "      <td>16 000 кг</td>\n",
       "      <td>негабарит до 30 тн</td>\n",
       "    </tr>\n",
       "    <tr>\n",
       "      <th>3</th>\n",
       "      <td>4</td>\n",
       "      <td>ЮПРМ</td>\n",
       "      <td>\"ООО \"\"УУУ\"\", Пермский край, город Лысьва, ули...</td>\n",
       "      <td>1</td>\n",
       "      <td>36*19*14 см</td>\n",
       "      <td>20 ТН</td>\n",
       "      <td>от 10,1 до 20 тн</td>\n",
       "    </tr>\n",
       "    <tr>\n",
       "      <th>4</th>\n",
       "      <td>5</td>\n",
       "      <td>\"Грузополучатель: ООО «ЕЕЕ»  база «аааа», РФ, ...</td>\n",
       "      <td>Челябинск, ул Рабочая 33в                Время...</td>\n",
       "      <td>3</td>\n",
       "      <td>1. Грузовое место 1/3: \\nДхШхВ=3280х1660х1320 ...</td>\n",
       "      <td>20 ТН</td>\n",
       "      <td>5</td>\n",
       "    </tr>\n",
       "  </tbody>\n",
       "</table>\n",
       "</div>"
      ],
      "text/plain": [
       "   ID                                    Город отгрузки   \\\n",
       "0   1  АО \"ЕЕЕ\"\\nАдрес: Нижегородская обл, Дзержинск ...   \n",
       "1   2  \"Торговое представительство АО \"\"ННН\"\" 467007,...   \n",
       "2   3  АО \"УУУ\", фактический адрес склада: 133354 г.М...   \n",
       "3   4                                               ЮПРМ   \n",
       "4   5  \"Грузополучатель: ООО «ЕЕЕ»  база «аааа», РФ, ...   \n",
       "\n",
       "                                     Город выгрузки   \\\n",
       "0  Грузополучатель: Общество с ограниченной ответ...   \n",
       "1  ООО \"Газпромнефть-Хантос\" ИНН 8618001111/КПП 9...   \n",
       "2  623751, Свердловская область., Реж г., Калинин...   \n",
       "3  \"ООО \"\"УУУ\"\", Пермский край, город Лысьва, ули...   \n",
       "4  Челябинск, ул Рабочая 33в                Время...   \n",
       "\n",
       "   Количество грузовых мест  \\\n",
       "0                         1   \n",
       "1                         2   \n",
       "2                         1   \n",
       "3                         1   \n",
       "4                         3   \n",
       "\n",
       "                   Габариты грузовых мест (Д*Ш*В), м Общий вес груза, кг  \\\n",
       "0                                        0,8х0,5х0,8             5,67 тн   \n",
       "1                           200*200*570, 900*870*650             750 кг.   \n",
       "2                                       1.2*0.8*0,66           16 000 кг   \n",
       "3                                        36*19*14 см               20 ТН   \n",
       "4  1. Грузовое место 1/3: \\nДхШхВ=3280х1660х1320 ...               20 ТН   \n",
       "\n",
       "               ТИП ТС   \n",
       "0            до 0.5 тн  \n",
       "1         от 3,1 до 5   \n",
       "2  негабарит до 30 тн   \n",
       "3     от 10,1 до 20 тн  \n",
       "4                    5  "
      ]
     },
     "execution_count": 219,
     "metadata": {},
     "output_type": "execute_result"
    }
   ],
   "source": [
    "data_tab.head()"
   ]
  },
  {
   "cell_type": "code",
   "execution_count": 220,
   "id": "1ac97f74",
   "metadata": {},
   "outputs": [],
   "source": [
    "# Список с вариантами написания города для обработки строк, где город явно указан (повышает точность обработки)\n",
    "list_designation=['г.', ' город', 'г ']"
   ]
  },
  {
   "cell_type": "markdown",
   "id": "86867c12",
   "metadata": {},
   "source": [
    "Так как специфика города отгрузки и города выгрузки разная, код был написан с учетом особенностей отдельно для города выгрузки и города отгрузки"
   ]
  },
  {
   "cell_type": "code",
   "execution_count": 221,
   "id": "f7e4bf2a",
   "metadata": {},
   "outputs": [
    {
     "name": "stdout",
     "output_type": "stream",
     "text": [
      "1.0\n"
     ]
    }
   ],
   "source": [
    "# Только для города отгрузки\n",
    "# Создание пустого столбца в таблице\n",
    "data_tab['city_from']=np.NaN\n",
    "# Обработка в несколько циклов: для строк, где город явно указан, для исключений, для строк, где нет указания города\n",
    "for i in range(data_tab.shape[0]):\n",
    "    value=str(data_tab.loc[i, 'Город отгрузки '])\n",
    "    for s in range(spisok_gor.shape[0]):\n",
    "        if str(spisok_gor.loc[s, 'Город'])+' г' in value:\n",
    "            value=value.replace(str(spisok_gor.loc[s, 'Город'])+' г', 'г.'+str(spisok_gor.loc[s, 'Город']))\n",
    "    if '.' or ',' in value:\n",
    "        value=value.replace('ё', 'е')\n",
    "        value=value.split(',')\n",
    "        value=[value[o].strip() for o in range(len(value))]\n",
    "        value=', '.join(value)\n",
    "        for k in range(len(list_designation)):\n",
    "            if list_designation[k] in value:\n",
    "                index1=value.find(list_designation[k])\n",
    "                len_designation=len(list_designation[k])\n",
    "                sum_find=index1+len_designation\n",
    "                index2=value.find(' ', sum_find+1)\n",
    "                data_tab.loc[i, 'city_from'] = value[sum_find:index2+1].replace(',', '').replace('.', '').strip()\n",
    "    value2=value.strip()\n",
    "    if spisok_gor['Город'].isin([value2]).any():\n",
    "        data_tab.loc[i, 'city_from'] = str(value2)\n",
    "for i in range(data_tab.shape[0]):\n",
    "    if spisok_gor['Город'].isin([data_tab.loc[i, 'city_from']]).any()==False:\n",
    "        data_tab.loc[i, 'city_from'] = np.NaN\n",
    "for i in range(data_tab.shape[0]):\n",
    "    if pd.isnull(data_tab.loc[i, 'city_from']) and pd.notnull(data_tab.loc[i, 'Город отгрузки ']):\n",
    "        value=str(data_tab.loc[i, 'Город отгрузки ']).replace(',', '')\n",
    "        for k in range(spisok_gor.shape[0]):\n",
    "            m=str(spisok_gor.loc[k, 'Город'])+' '\n",
    "            n=str(spisok_gor.loc[k, 'Город'])+','\n",
    "            if n in value:\n",
    "                data_tab.loc[i, 'city_from'] = spisok_gor.loc[k, 'Город']\n",
    "            if m in value:\n",
    "                data_tab.loc[i, 'city_from'] = spisok_gor.loc[k, 'Город']\n",
    "for i in range(data_tab.shape[0]):\n",
    "    if pd.isnull(data_tab.loc[i, 'city_from']) and pd.notnull(data_tab.loc[i, 'Город отгрузки ']):\n",
    "        value=str(data_tab.loc[i, 'Город отгрузки ']).replace(',', '')\n",
    "        for k in range(len(dict_val)):\n",
    "            if dict_val[k] in value:\n",
    "                data_tab.loc[i, 'city_from'] = diction[dict_val[k]]  \n",
    "for i in range(data_tab.shape[0]):\n",
    "    if pd.isnull(data_tab.loc[i, 'city_from']) and pd.notnull(data_tab.loc[i, 'Город отгрузки ']):\n",
    "        value=str(data_tab.loc[i, 'Город отгрузки ']).replace(',', ' ')+' '\n",
    "        for k in range(spisok_gor.shape[0]):\n",
    "            if str(spisok_gor.loc[k, 'Город'])+' ' in value:\n",
    "                data_tab.loc[i, 'city_from'] = spisok_gor.loc[k, 'Город']\n",
    "# Вывод доли определенных городов от общего количества\n",
    "a = len(data_tab[data_tab['city_from'].isnull()==False]['city_from'])\n",
    "b = len(data_tab[data_tab['Город отгрузки '].isnull()==False]['Город отгрузки '])\n",
    "print(a/b)"
   ]
  },
  {
   "cell_type": "code",
   "execution_count": 222,
   "id": "792ffc12",
   "metadata": {},
   "outputs": [
    {
     "name": "stdout",
     "output_type": "stream",
     "text": [
      "1.0\n"
     ]
    }
   ],
   "source": [
    "# Только для города выгрузки\n",
    "# Создание пустого столбца в таблице\n",
    "data_tab['city_to']=np.NaN\n",
    "# Обработка в несколько циклов: для строк, где город явно указан, для исключений, для строк, где нет указания города\n",
    "for i in range(data_tab.shape[0]):\n",
    "    value=str(data_tab.loc[i, 'Город выгрузки '])\n",
    "    for s in range(spisok_gor.shape[0]):\n",
    "        if str(spisok_gor.loc[s, 'Город'])+' г' in value:\n",
    "            value=value.replace(str(spisok_gor.loc[s, 'Город'])+' г', 'г.'+str(spisok_gor.loc[s, 'Город']))\n",
    "    if '.' or ',' in value:\n",
    "        value=value.replace('ё', 'е')\n",
    "        value=value.split(',')\n",
    "        value=[value[o].strip() for o in range(len(value))]\n",
    "        value=', '.join(value)\n",
    "        for k in range(len(list_designation)):\n",
    "            if list_designation[k] in value:\n",
    "                index1=value.find(list_designation[k])\n",
    "                len_designation=len(list_designation[k])\n",
    "                sum_find=index1+len_designation\n",
    "                index2=value.find(' ', sum_find+1)\n",
    "                data_tab.loc[i, 'city_to'] = value[sum_find:index2+1].replace(',', '').replace('.', '').strip()\n",
    "    value2=value.strip()\n",
    "    if spisok_gor['Город'].isin([value2]).any():\n",
    "        data_tab.loc[i, 'city_to'] = str(value2)\n",
    "for i in range(data_tab.shape[0]):\n",
    "    if spisok_gor['Город'].isin([data_tab.loc[i, 'city_to']]).any()==False:\n",
    "        data_tab.loc[i, 'city_to'] = np.NaN\n",
    "for i in range(data_tab.shape[0]):\n",
    "    if pd.isnull(data_tab.loc[i, 'city_to']) and pd.notnull(data_tab.loc[i, 'Город выгрузки ']):\n",
    "        value=str(data_tab.loc[i, 'Город выгрузки ']).replace(',', '')\n",
    "        for k in range(spisok_gor.shape[0]):\n",
    "            m=str(spisok_gor.loc[k, 'Город'])+' '\n",
    "            n=str(spisok_gor.loc[k, 'Город'])+','\n",
    "            if n in value:\n",
    "                data_tab.loc[i, 'city_to'] = spisok_gor.loc[k, 'Город']\n",
    "            if m in value:\n",
    "                data_tab.loc[i, 'city_to'] = spisok_gor.loc[k, 'Город']\n",
    "for i in range(data_tab.shape[0]):\n",
    "    if pd.isnull(data_tab.loc[i, 'city_to']) and pd.notnull(data_tab.loc[i, 'Город выгрузки ']):\n",
    "        value=str(data_tab.loc[i, 'Город выгрузки ']).replace(',', '')\n",
    "        for k in range(len(dict_val)):\n",
    "            if dict_val[k] in value:\n",
    "                data_tab.loc[i, 'city_to'] = diction[dict_val[k]]  \n",
    "for i in range(data_tab.shape[0]):\n",
    "    if pd.isnull(data_tab.loc[i, 'city_to']) and pd.notnull(data_tab.loc[i, 'Город выгрузки ']):\n",
    "        value=str(data_tab.loc[i, 'Город выгрузки ']).replace(',', ' ')+' '\n",
    "        for k in range(spisok_gor.shape[0]):\n",
    "            if str(spisok_gor.loc[k, 'Город'])+' ' in value:\n",
    "                data_tab.loc[i, 'city_to'] = spisok_gor.loc[k, 'Город']      \n",
    "# Вывод доли определенных городов от общего количества\n",
    "a = len(data_tab[data_tab['city_to'].isnull()==False]['city_to'])\n",
    "b = len(data_tab[data_tab['Город выгрузки '].isnull()==False]['Город выгрузки '])\n",
    "print(a/b)"
   ]
  },
  {
   "cell_type": "code",
   "execution_count": 223,
   "id": "1778f750",
   "metadata": {
    "scrolled": true
   },
   "outputs": [
    {
     "name": "stdout",
     "output_type": "stream",
     "text": [
      "   ID                                    Город отгрузки   \\\n",
      "0   1  АО \"ЕЕЕ\"\\nАдрес: Нижегородская обл, Дзержинск ...   \n",
      "1   2  \"Торговое представительство АО \"\"ННН\"\" 467007,...   \n",
      "2   3  АО \"УУУ\", фактический адрес склада: 133354 г.М...   \n",
      "3   4                                               ЮПРМ   \n",
      "4   5  \"Грузополучатель: ООО «ЕЕЕ»  база «аааа», РФ, ...   \n",
      "\n",
      "                                     Город выгрузки   \\\n",
      "0  Грузополучатель: Общество с ограниченной ответ...   \n",
      "1  ООО \"Газпромнефть-Хантос\" ИНН 8618001111/КПП 9...   \n",
      "2  623751, Свердловская область., Реж г., Калинин...   \n",
      "3  \"ООО \"\"УУУ\"\", Пермский край, город Лысьва, ули...   \n",
      "4  Челябинск, ул Рабочая 33в                Время...   \n",
      "\n",
      "   Количество грузовых мест  \\\n",
      "0                         1   \n",
      "1                         2   \n",
      "2                         1   \n",
      "3                         1   \n",
      "4                         3   \n",
      "\n",
      "                   Габариты грузовых мест (Д*Ш*В), м Общий вес груза, кг  \\\n",
      "0                                        0,8х0,5х0,8             5,67 тн   \n",
      "1                           200*200*570, 900*870*650             750 кг.   \n",
      "2                                       1.2*0.8*0,66           16 000 кг   \n",
      "3                                        36*19*14 см               20 ТН   \n",
      "4  1. Грузовое место 1/3: \\nДхШхВ=3280х1660х1320 ...               20 ТН   \n",
      "\n",
      "               ТИП ТС           city_from            city_to  \n",
      "0            до 0.5 тн          Дзержинск             Мегион  \n",
      "1         от 3,1 до 5           Ульяновск  Приобское м/р ЮЛТ  \n",
      "2  негабарит до 30 тн              Москва                Реж  \n",
      "3     от 10,1 до 20 тн  Приобское м/р ЮЛТ             Лысьва  \n",
      "4                    5         Лабытнанги          Челябинск  \n"
     ]
    }
   ],
   "source": [
    "print(data_tab)"
   ]
  },
  {
   "cell_type": "code",
   "execution_count": 224,
   "id": "6c8fefcc",
   "metadata": {},
   "outputs": [],
   "source": [
    "# Соединение с таблицей всех городов с координатами, регионами\n",
    "spisok_gor_inf=spisok_gor[['Город', 'Регион', 'Широта', 'Долгота']]\n",
    "joined_df1=pd.merge(data_tab, spisok_gor_inf, left_on='city_from', right_on='Город', how='left')\n",
    "joined_df2=pd.merge(joined_df1, spisok_gor_inf, left_on='city_to', right_on='Город', how='left')\n",
    "joined_df2=joined_df2.drop(labels=['city_from', 'city_to'], axis=1)"
   ]
  },
  {
   "cell_type": "code",
   "execution_count": 225,
   "id": "a53c6040",
   "metadata": {
    "scrolled": true
   },
   "outputs": [
    {
     "name": "stdout",
     "output_type": "stream",
     "text": [
      "   ID                                    Город отгрузки   \\\n",
      "0   1  АО \"ЕЕЕ\"\\nАдрес: Нижегородская обл, Дзержинск ...   \n",
      "1   2  \"Торговое представительство АО \"\"ННН\"\" 467007,...   \n",
      "2   3  АО \"УУУ\", фактический адрес склада: 133354 г.М...   \n",
      "3   4                                               ЮПРМ   \n",
      "4   5  \"Грузополучатель: ООО «ЕЕЕ»  база «аааа», РФ, ...   \n",
      "\n",
      "                                     Город выгрузки   \\\n",
      "0  Грузополучатель: Общество с ограниченной ответ...   \n",
      "1  ООО \"Газпромнефть-Хантос\" ИНН 8618001111/КПП 9...   \n",
      "2  623751, Свердловская область., Реж г., Калинин...   \n",
      "3  \"ООО \"\"УУУ\"\", Пермский край, город Лысьва, ули...   \n",
      "4  Челябинск, ул Рабочая 33в                Время...   \n",
      "\n",
      "   Количество грузовых мест  \\\n",
      "0                         1   \n",
      "1                         2   \n",
      "2                         1   \n",
      "3                         1   \n",
      "4                         3   \n",
      "\n",
      "                   Габариты грузовых мест (Д*Ш*В), м Общий вес груза, кг  \\\n",
      "0                                        0,8х0,5х0,8             5,67 тн   \n",
      "1                           200*200*570, 900*870*650             750 кг.   \n",
      "2                                       1.2*0.8*0,66           16 000 кг   \n",
      "3                                        36*19*14 см               20 ТН   \n",
      "4  1. Грузовое место 1/3: \\nДхШхВ=3280х1660х1320 ...               20 ТН   \n",
      "\n",
      "               ТИП ТС             Город_x  \\\n",
      "0            до 0.5 тн          Дзержинск   \n",
      "1         от 3,1 до 5           Ульяновск   \n",
      "2  негабарит до 30 тн              Москва   \n",
      "3     от 10,1 до 20 тн  Приобское м/р ЮЛТ   \n",
      "4                    5         Лабытнанги   \n",
      "\n",
      "                                   Регион_x   Широта_x  Долгота_x  \\\n",
      "0                     Нижегородская область  56.237644  43.459936   \n",
      "1                       Ульяновская область  54.308067  48.374872   \n",
      "2                                    Москва  55.753879  37.620373   \n",
      "3  Ханты-Мансийский Автономный округ - Югра        NaN        NaN   \n",
      "4           Ямало-Ненецкий автономный округ  66.659238  66.388263   \n",
      "\n",
      "             Город_y                                  Регион_y   Широта_y  \\\n",
      "0             Мегион  Ханты-Мансийский Автономный округ - Югра  61.031895   \n",
      "1  Приобское м/р ЮЛТ  Ханты-Мансийский Автономный округ - Югра        NaN   \n",
      "2                Реж                      Свердловская область        NaN   \n",
      "3             Лысьва                             Пермский край  58.099599   \n",
      "4          Челябинск                       Челябинская область  55.160366   \n",
      "\n",
      "   Долгота_y  \n",
      "0  76.102477  \n",
      "1        NaN  \n",
      "2        NaN  \n",
      "3  57.808573  \n",
      "4  61.400786  \n"
     ]
    }
   ],
   "source": [
    "print(joined_df2)"
   ]
  },
  {
   "cell_type": "code",
   "execution_count": 226,
   "id": "eeb5490d",
   "metadata": {},
   "outputs": [],
   "source": [
    "data_tab=joined_df2"
   ]
  },
  {
   "cell_type": "markdown",
   "id": "f43b4921",
   "metadata": {},
   "source": [
    "# Этап 2. Распознавание типа транспортного средства"
   ]
  },
  {
   "cell_type": "markdown",
   "id": "2a6a5190",
   "metadata": {},
   "source": [
    "Следующая часть кода позволяет определить тип транспортного средства исходя из списка значений"
   ]
  },
  {
   "cell_type": "code",
   "execution_count": 227,
   "id": "50bf24e8",
   "metadata": {},
   "outputs": [],
   "source": [
    "# Создание пустых столбцов\n",
    "data_tab['TS type']=np.nan\n",
    "data_tab['weight']=np.nan"
   ]
  },
  {
   "cell_type": "code",
   "execution_count": 228,
   "id": "d237532c",
   "metadata": {
    "scrolled": true
   },
   "outputs": [
    {
     "data": {
      "text/html": [
       "<div>\n",
       "<style scoped>\n",
       "    .dataframe tbody tr th:only-of-type {\n",
       "        vertical-align: middle;\n",
       "    }\n",
       "\n",
       "    .dataframe tbody tr th {\n",
       "        vertical-align: top;\n",
       "    }\n",
       "\n",
       "    .dataframe thead th {\n",
       "        text-align: right;\n",
       "    }\n",
       "</style>\n",
       "<table border=\"1\" class=\"dataframe\">\n",
       "  <thead>\n",
       "    <tr style=\"text-align: right;\">\n",
       "      <th></th>\n",
       "      <th>ID</th>\n",
       "      <th>Город отгрузки</th>\n",
       "      <th>Город выгрузки</th>\n",
       "      <th>Количество грузовых мест</th>\n",
       "      <th>Габариты грузовых мест (Д*Ш*В), м</th>\n",
       "      <th>Общий вес груза, кг</th>\n",
       "      <th>ТИП ТС</th>\n",
       "      <th>Город_x</th>\n",
       "      <th>Регион_x</th>\n",
       "      <th>Широта_x</th>\n",
       "      <th>Долгота_x</th>\n",
       "      <th>Город_y</th>\n",
       "      <th>Регион_y</th>\n",
       "      <th>Широта_y</th>\n",
       "      <th>Долгота_y</th>\n",
       "      <th>TS type</th>\n",
       "      <th>weight</th>\n",
       "    </tr>\n",
       "  </thead>\n",
       "  <tbody>\n",
       "    <tr>\n",
       "      <th>0</th>\n",
       "      <td>1</td>\n",
       "      <td>АО \"ЕЕЕ\"\\nАдрес: Нижегородская обл, Дзержинск ...</td>\n",
       "      <td>Грузополучатель: Общество с ограниченной ответ...</td>\n",
       "      <td>1</td>\n",
       "      <td>0,8х0,5х0,8</td>\n",
       "      <td>5,67 тн</td>\n",
       "      <td>до 0.5 тн</td>\n",
       "      <td>Дзержинск</td>\n",
       "      <td>Нижегородская область</td>\n",
       "      <td>56.237644</td>\n",
       "      <td>43.459936</td>\n",
       "      <td>Мегион</td>\n",
       "      <td>Ханты-Мансийский Автономный округ - Югра</td>\n",
       "      <td>61.031895</td>\n",
       "      <td>76.102477</td>\n",
       "      <td>NaN</td>\n",
       "      <td>NaN</td>\n",
       "    </tr>\n",
       "    <tr>\n",
       "      <th>1</th>\n",
       "      <td>2</td>\n",
       "      <td>\"Торговое представительство АО \"\"ННН\"\" 467007,...</td>\n",
       "      <td>ООО \"Газпромнефть-Хантос\" ИНН 8618001111/КПП 9...</td>\n",
       "      <td>2</td>\n",
       "      <td>200*200*570, 900*870*650</td>\n",
       "      <td>750 кг.</td>\n",
       "      <td>от 3,1 до 5</td>\n",
       "      <td>Ульяновск</td>\n",
       "      <td>Ульяновская область</td>\n",
       "      <td>54.308067</td>\n",
       "      <td>48.374872</td>\n",
       "      <td>Приобское м/р ЮЛТ</td>\n",
       "      <td>Ханты-Мансийский Автономный округ - Югра</td>\n",
       "      <td>NaN</td>\n",
       "      <td>NaN</td>\n",
       "      <td>NaN</td>\n",
       "      <td>NaN</td>\n",
       "    </tr>\n",
       "    <tr>\n",
       "      <th>2</th>\n",
       "      <td>3</td>\n",
       "      <td>АО \"УУУ\", фактический адрес склада: 133354 г.М...</td>\n",
       "      <td>623751, Свердловская область., Реж г., Калинин...</td>\n",
       "      <td>1</td>\n",
       "      <td>1.2*0.8*0,66</td>\n",
       "      <td>16 000 кг</td>\n",
       "      <td>негабарит до 30 тн</td>\n",
       "      <td>Москва</td>\n",
       "      <td>Москва</td>\n",
       "      <td>55.753879</td>\n",
       "      <td>37.620373</td>\n",
       "      <td>Реж</td>\n",
       "      <td>Свердловская область</td>\n",
       "      <td>NaN</td>\n",
       "      <td>NaN</td>\n",
       "      <td>NaN</td>\n",
       "      <td>NaN</td>\n",
       "    </tr>\n",
       "    <tr>\n",
       "      <th>3</th>\n",
       "      <td>4</td>\n",
       "      <td>ЮПРМ</td>\n",
       "      <td>\"ООО \"\"УУУ\"\", Пермский край, город Лысьва, ули...</td>\n",
       "      <td>1</td>\n",
       "      <td>36*19*14 см</td>\n",
       "      <td>20 ТН</td>\n",
       "      <td>от 10,1 до 20 тн</td>\n",
       "      <td>Приобское м/р ЮЛТ</td>\n",
       "      <td>Ханты-Мансийский Автономный округ - Югра</td>\n",
       "      <td>NaN</td>\n",
       "      <td>NaN</td>\n",
       "      <td>Лысьва</td>\n",
       "      <td>Пермский край</td>\n",
       "      <td>58.099599</td>\n",
       "      <td>57.808573</td>\n",
       "      <td>NaN</td>\n",
       "      <td>NaN</td>\n",
       "    </tr>\n",
       "    <tr>\n",
       "      <th>4</th>\n",
       "      <td>5</td>\n",
       "      <td>\"Грузополучатель: ООО «ЕЕЕ»  база «аааа», РФ, ...</td>\n",
       "      <td>Челябинск, ул Рабочая 33в                Время...</td>\n",
       "      <td>3</td>\n",
       "      <td>1. Грузовое место 1/3: \\nДхШхВ=3280х1660х1320 ...</td>\n",
       "      <td>20 ТН</td>\n",
       "      <td>5</td>\n",
       "      <td>Лабытнанги</td>\n",
       "      <td>Ямало-Ненецкий автономный округ</td>\n",
       "      <td>66.659238</td>\n",
       "      <td>66.388263</td>\n",
       "      <td>Челябинск</td>\n",
       "      <td>Челябинская область</td>\n",
       "      <td>55.160366</td>\n",
       "      <td>61.400786</td>\n",
       "      <td>NaN</td>\n",
       "      <td>NaN</td>\n",
       "    </tr>\n",
       "  </tbody>\n",
       "</table>\n",
       "</div>"
      ],
      "text/plain": [
       "   ID                                    Город отгрузки   \\\n",
       "0   1  АО \"ЕЕЕ\"\\nАдрес: Нижегородская обл, Дзержинск ...   \n",
       "1   2  \"Торговое представительство АО \"\"ННН\"\" 467007,...   \n",
       "2   3  АО \"УУУ\", фактический адрес склада: 133354 г.М...   \n",
       "3   4                                               ЮПРМ   \n",
       "4   5  \"Грузополучатель: ООО «ЕЕЕ»  база «аааа», РФ, ...   \n",
       "\n",
       "                                     Город выгрузки   \\\n",
       "0  Грузополучатель: Общество с ограниченной ответ...   \n",
       "1  ООО \"Газпромнефть-Хантос\" ИНН 8618001111/КПП 9...   \n",
       "2  623751, Свердловская область., Реж г., Калинин...   \n",
       "3  \"ООО \"\"УУУ\"\", Пермский край, город Лысьва, ули...   \n",
       "4  Челябинск, ул Рабочая 33в                Время...   \n",
       "\n",
       "   Количество грузовых мест  \\\n",
       "0                         1   \n",
       "1                         2   \n",
       "2                         1   \n",
       "3                         1   \n",
       "4                         3   \n",
       "\n",
       "                   Габариты грузовых мест (Д*Ш*В), м Общий вес груза, кг  \\\n",
       "0                                        0,8х0,5х0,8             5,67 тн   \n",
       "1                           200*200*570, 900*870*650             750 кг.   \n",
       "2                                       1.2*0.8*0,66           16 000 кг   \n",
       "3                                        36*19*14 см               20 ТН   \n",
       "4  1. Грузовое место 1/3: \\nДхШхВ=3280х1660х1320 ...               20 ТН   \n",
       "\n",
       "               ТИП ТС             Город_x  \\\n",
       "0            до 0.5 тн          Дзержинск   \n",
       "1         от 3,1 до 5           Ульяновск   \n",
       "2  негабарит до 30 тн              Москва   \n",
       "3     от 10,1 до 20 тн  Приобское м/р ЮЛТ   \n",
       "4                    5         Лабытнанги   \n",
       "\n",
       "                                   Регион_x   Широта_x  Долгота_x  \\\n",
       "0                     Нижегородская область  56.237644  43.459936   \n",
       "1                       Ульяновская область  54.308067  48.374872   \n",
       "2                                    Москва  55.753879  37.620373   \n",
       "3  Ханты-Мансийский Автономный округ - Югра        NaN        NaN   \n",
       "4           Ямало-Ненецкий автономный округ  66.659238  66.388263   \n",
       "\n",
       "             Город_y                                  Регион_y   Широта_y  \\\n",
       "0             Мегион  Ханты-Мансийский Автономный округ - Югра  61.031895   \n",
       "1  Приобское м/р ЮЛТ  Ханты-Мансийский Автономный округ - Югра        NaN   \n",
       "2                Реж                      Свердловская область        NaN   \n",
       "3             Лысьва                             Пермский край  58.099599   \n",
       "4          Челябинск                       Челябинская область  55.160366   \n",
       "\n",
       "   Долгота_y  TS type  weight  \n",
       "0  76.102477      NaN     NaN  \n",
       "1        NaN      NaN     NaN  \n",
       "2        NaN      NaN     NaN  \n",
       "3  57.808573      NaN     NaN  \n",
       "4  61.400786      NaN     NaN  "
      ]
     },
     "execution_count": 228,
     "metadata": {},
     "output_type": "execute_result"
    }
   ],
   "source": [
    "data_tab.head()"
   ]
  },
  {
   "cell_type": "code",
   "execution_count": 229,
   "id": "d081ecf4",
   "metadata": {},
   "outputs": [],
   "source": [
    "data_tab.loc[data_tab['ТИП ТС '].isin([1, '1', 'до 0,5 тн ', 'до 0,5 тн', 'до 0,5  тн', 'до 0.5 тн ', 'до 0.5 тн', 'до 0.5 тн ', 'до 0,5тн ', 'до 0,5  тн ', 'до 0,5 ']), 'TS type']=1"
   ]
  },
  {
   "cell_type": "code",
   "execution_count": 230,
   "id": "5489a234",
   "metadata": {},
   "outputs": [],
   "source": [
    "data_tab.loc[data_tab['ТИП ТС '].isin([2, '2', 'от 1,5 до 3 тн ', 'от 1,5 до 3 тн ', 'от 1,5 до 3 тн', '2 тн']), 'TS type']=2"
   ]
  },
  {
   "cell_type": "code",
   "execution_count": 231,
   "id": "550994df",
   "metadata": {},
   "outputs": [],
   "source": [
    "data_tab.loc[data_tab['ТИП ТС '].isin([3, '3', 'от 3,1 до 5 тн', 'от 3,1 до 5 тн ', 'от 3,1 до 5', 'от 3,1 дор 5 тн ', 'от 3тн до 5 тн', 'от 3,1 до 5 ', '5 тн']), 'TS type']=3"
   ]
  },
  {
   "cell_type": "code",
   "execution_count": 232,
   "id": "8108a6ef",
   "metadata": {},
   "outputs": [],
   "source": [
    "data_tab.loc[data_tab['ТИП ТС '].isin([4, '4', 'от5,1 до 10тн ', 'от 5,1 до 10 тн ', 'от  5,1 до 10 тн']), 'TS type']=4"
   ]
  },
  {
   "cell_type": "code",
   "execution_count": 233,
   "id": "e71b0ad9",
   "metadata": {},
   "outputs": [],
   "source": [
    "data_tab.loc[data_tab['ТИП ТС '].isin([5, '5', 'от 10,1 до 20 тн ', 'от 10,1 до 20тн ', 'от  10,1 до 20 тн ', 'от 10,1 до 20 тн', 'от 10,1 до 20  тн ', '5 тип']), 'TS type']=5"
   ]
  },
  {
   "cell_type": "code",
   "execution_count": 234,
   "id": "e6deaac6",
   "metadata": {},
   "outputs": [],
   "source": [
    "data_tab.loc[data_tab['ТИП ТС '].isin([6, '6', '20тн', '20 тн', '20т', 'до 20 тн', 'до 20тн']), 'TS type']=6"
   ]
  },
  {
   "cell_type": "code",
   "execution_count": 235,
   "id": "da42054c",
   "metadata": {},
   "outputs": [],
   "source": [
    "data_tab.loc[data_tab['ТИП ТС '].isin([7, '7', 'до 30 тн', 'до 30 тн ', 'до 30тн ', 'до 30тн ', 'трал(до 30т)']), 'TS type']=7"
   ]
  },
  {
   "cell_type": "code",
   "execution_count": 236,
   "id": "94daa967",
   "metadata": {},
   "outputs": [],
   "source": [
    "data_tab.loc[data_tab['ТИП ТС '].str.contains(r\"не[а]*габарит\", na=False, flags=re.IGNORECASE), 'TS type']='негабарит'"
   ]
  },
  {
   "cell_type": "code",
   "execution_count": 237,
   "id": "6630cac8",
   "metadata": {},
   "outputs": [],
   "source": [
    "dict_TS={1:[3, 1.8, 1.5], 2:[3.5, 2, 2], 3:[4.5, 2, 2.2], 4:[6, 2.2, 2.4], 5:[13.6, 2.4, 2.5], 6:[15, 2.5, 3], 7:[16, 2.5, 3]}"
   ]
  },
  {
   "cell_type": "markdown",
   "id": "4a9a7312",
   "metadata": {},
   "source": [
    "# Этап 3. Распознавание габаритов"
   ]
  },
  {
   "cell_type": "markdown",
   "id": "a6567a8d",
   "metadata": {},
   "source": [
    "Следующая часть кода позволяет распознать габариты с помощью регулярных выражений и записать их в структурированный список"
   ]
  },
  {
   "cell_type": "code",
   "execution_count": 238,
   "id": "405c030a",
   "metadata": {},
   "outputs": [],
   "source": [
    "res = data_tab['Габариты грузовых мест (Д*Ш*В), м'].str.findall(r\"([0-9]+[,.]*[0-9]*)[ ]*[см]*[ ]*[/*хxХх×X][ ]*([0-9]+[,.]*[0-9]*)[ ]*[см]*[ ]*[/*хxХх×X][ ]*([0-9]+[,.]*[0-9]*)[ ]*([см|мм|м]*)(?:(?:[^\\w,]*(\\d+)[\\s]*(шт|ящ|короб))|(?:[-][^\\w,]*(\\d+)[\\s]*(мест))?)\", flags=re.IGNORECASE)"
   ]
  },
  {
   "cell_type": "code",
   "execution_count": 239,
   "id": "c97d9616",
   "metadata": {},
   "outputs": [],
   "source": [
    "res[res.str.len() == 0]=data_tab['Габариты грузовых мест (Д*Ш*В), м'].str.findall(r'[дL]{1}[\\D]+([0-9]+[,.]*[0-9]*)[\\D]+[шB]{1}[\\D]+([0-9]+[,.]*[0-9]*)[\\D]+[вH]{1}[\\D]+([0-9]+[,.]*[0-9]*)[ ]*([см|мм|м]*)(?:[^\\w,]*(\\d+)[\\s]*(шт|ящ|короб))?', flags=re.IGNORECASE)"
   ]
  },
  {
   "cell_type": "code",
   "execution_count": 240,
   "id": "c495c71f",
   "metadata": {},
   "outputs": [],
   "source": [
    "res[res.str.len() == 0]=data_tab['Габариты грузовых мест (Д*Ш*В), м'].str.findall(r'([0-9]+[,.]*[0-9]*)[ ]*[см]*[ ]*[/*хxХх×X][ ]*([0-9]+[,.]*[0-9]*)[ ]*([см|мм|м]*)[^ /*хxХ]*(?:[^\\w,]*(\\d+)[\\s]*(шт|ящ|короб))?', flags=re.IGNORECASE)"
   ]
  },
  {
   "cell_type": "code",
   "execution_count": 241,
   "id": "aad09916",
   "metadata": {},
   "outputs": [],
   "source": [
    "data_tab['dimensions']=res"
   ]
  },
  {
   "cell_type": "code",
   "execution_count": 242,
   "id": "e005c159",
   "metadata": {
    "scrolled": true
   },
   "outputs": [
    {
     "data": {
      "text/plain": [
       "1.0"
      ]
     },
     "execution_count": 242,
     "metadata": {},
     "output_type": "execute_result"
    }
   ],
   "source": [
    "# Доля распознанных габаритов\n",
    "(len(res)-len(data_tab[data_tab['dimensions'].str.len() == 0]))/len(res)"
   ]
  },
  {
   "cell_type": "code",
   "execution_count": 243,
   "id": "2905331a",
   "metadata": {},
   "outputs": [
    {
     "data": {
      "text/plain": [
       "0                          [(0,8, 0,5, 0,8, , , , , )]\n",
       "1    [(200, 200, 570,, , , , , ), (900, 870, 650, ,...\n",
       "2                         [(1.2, 0.8, 0,66, , , , , )]\n",
       "3                           [(36, 19, 14, см, , , , )]\n",
       "4    [(3280, 1660, 1320, мм, , , , ), (1990, 1970, ...\n",
       "Name: dimensions, dtype: object"
      ]
     },
     "execution_count": 243,
     "metadata": {},
     "output_type": "execute_result"
    }
   ],
   "source": [
    "data_tab['dimensions']"
   ]
  },
  {
   "cell_type": "code",
   "execution_count": 244,
   "id": "b5a30390",
   "metadata": {},
   "outputs": [],
   "source": [
    "# Приведение списков к общему виду\n",
    "for i in range(data_tab.shape[0]):\n",
    "    if type(data_tab.loc[i, 'dimensions'])==list:\n",
    "        data_tab.at[i, 'dimensions'] = list(map(list, data_tab.at[i, 'dimensions']))\n",
    "        for j in range(len(data_tab.at[i, 'dimensions'])):\n",
    "            if len((data_tab.at[i, 'dimensions'][j]))==8:\n",
    "                data_tab.at[i, 'dimensions'][j].reverse() \n",
    "                data_tab.at[i, 'dimensions'][j].remove('')\n",
    "                data_tab.at[i, 'dimensions'][j].remove('')\n",
    "                data_tab.at[i, 'dimensions'][j].reverse() "
   ]
  },
  {
   "cell_type": "code",
   "execution_count": 245,
   "id": "1ac4e659",
   "metadata": {},
   "outputs": [],
   "source": [
    "# Преобразование значений габаритов, в которых явно указана единица измерения, в единую размерность (в см)\n",
    "for i in range(data_tab.shape[0]):\n",
    "    l=data_tab.loc[i, 'dimensions']\n",
    "    if type(l)==list:\n",
    "        for j in range(len(l)):\n",
    "            for k in range(3):\n",
    "                if type(l[j][k])==str and len(l[j])==6:\n",
    "                    if l[j][k]=='':\n",
    "                        l[j][k]=np.nan\n",
    "                    elif type(l[j][k])==str:\n",
    "                        l[j][k]=float(l[j][k].replace(',', '.').replace('..', ''))\n",
    "            for k in range(2):\n",
    "                if type(l[j][k])==str and len(l[j])==5:\n",
    "                    if l[j][k]=='':\n",
    "                        l[j][k]=np.nan\n",
    "                    elif type(l[j][k])==str:\n",
    "                        l[j][k]=float(l[j][k].replace(',', '.').replace('..', ''))\n",
    "            if l[j][3]=='м' and len(l[j])==6:\n",
    "                l[j][0]=round(l[j][0]*100, 10)\n",
    "                l[j][1]=round(l[j][1]*100, 10)\n",
    "                l[j][2]=round(l[j][2]*100, 10)\n",
    "                l[j][3]='см'\n",
    "            elif l[j][3]=='мм' and len(l[j])==6:\n",
    "                l[j][0]=round(l[j][0]*0.1, 10)\n",
    "                l[j][1]=round(l[j][1]*0.1, 10)\n",
    "                l[j][2]=round(l[j][2]*0.1, 10)\n",
    "                l[j][3]='см'\n",
    "            elif l[j][2]=='мм' and len(l[j])==5:\n",
    "                l[j][0]=round(l[j][0]*0.1, 10)\n",
    "                l[j][1]=round(l[j][1]*0.1, 10)\n",
    "                l[j][2]='см'\n",
    "            elif l[j][2]=='м' and len(l[j])==5:\n",
    "                l[j][0]=round(l[j][0]*100, 10)\n",
    "                l[j][1]=round(l[j][1]*100, 10)\n",
    "                l[j][2]='см'\n",
    "            data_tab.at[i, 'dimensions']=l"
   ]
  },
  {
   "cell_type": "code",
   "execution_count": 246,
   "id": "c2d8b899",
   "metadata": {},
   "outputs": [],
   "source": [
    "# Преобразование значений габаритов, в которых не указана единица измерения, в единую размерность (в см) в зависимости от типа трнапортного средства (для каждого типа предусмотрены свои максимально возможные габариты)\n",
    "for i in range(data_tab.shape[0]):\n",
    "    l=data_tab.loc[i, 'dimensions']\n",
    "    if type(l)==list:\n",
    "        for j in range(len(l)):\n",
    "            if l[j][3]=='' and len(l[j])==6:\n",
    "                if data_tab.loc[i, 'TS type'] in dict_TS.keys():\n",
    "                    if l[j][0]>dict_TS[data_tab.at[i, 'TS type']][0] or l[j][1]>dict_TS[data_tab.at[i, 'TS type']][1] or l[j][2]>dict_TS[data_tab.at[i, 'TS type']][2]:\n",
    "                        for k in range(3):\n",
    "                            l[j][k]=round(l[j][k]*0.01, 10)\n",
    "                        if l[j][0]>dict_TS[data_tab.at[i, 'TS type']][0] or l[j][1]>dict_TS[data_tab.at[i, 'TS type']][1] or l[j][2]>dict_TS[data_tab.at[i, 'TS type']][2]:\n",
    "                            for k in range(3):\n",
    "                                l[j][k]=round(l[j][k]*0.1, 10)\n",
    "                    if l[j][0]<=dict_TS[data_tab.at[i, 'TS type']][0] and l[j][1]<=dict_TS[data_tab.at[i, 'TS type']][1] and l[j][2]<=dict_TS[data_tab.at[i, 'TS type']][2]:\n",
    "                        for k in range(3):\n",
    "                            l[j][k]=round(l[j][k]*100, 10)\n",
    "                        data_tab.at[i, 'dimensions']=l\n",
    "                else:\n",
    "                    if l[j][0]>16 or l[j][1]>2.5 or l[j][2]>3:\n",
    "                        for k in range(3):\n",
    "                            l[j][k]=round(l[j][k]*0.01, 10)\n",
    "                        if l[j][0]>=16 or l[j][1]>=2.5 or l[j][2]>=3:\n",
    "                            for k in range(3):\n",
    "                                l[j][k]=round(l[j][k]*0.1, 10)\n",
    "                    if l[j][0]<=16 and l[j][1]<=2.5 and l[j][2]<=3:\n",
    "                        for k in range(3):\n",
    "                            l[j][k]=round(l[j][k]*100, 10)\n",
    "                        data_tab.at[i, 'dimensions']=l\n",
    "            if l[j][2]=='' and len(l[j])==5:\n",
    "                if data_tab.loc[i, 'TS type'] in dict_TS.keys():\n",
    "                    if l[j][0]>dict_TS[data_tab.at[i, 'TS type']][0] or l[j][1]>dict_TS[data_tab.at[i, 'TS type']][1]:\n",
    "                        for k in range(2):\n",
    "                            l[j][k]=round(l[j][k]*0.01, 10)\n",
    "                        if l[j][0]>dict_TS[data_tab.at[i, 'TS type']][0] or l[j][1]>dict_TS[data_tab.at[i, 'TS type']][1]:\n",
    "                            for k in range(2):\n",
    "                                l[j][k]=round(l[j][k]*0.1, 10)\n",
    "                    if l[j][0]<=dict_TS[data_tab.at[i, 'TS type']][0] and l[j][1]<=dict_TS[data_tab.at[i, 'TS type']][1]:\n",
    "                        for k in range(2):\n",
    "                            l[j][k]=round(l[j][k]*100, 10)\n",
    "                        data_tab.at[i, 'dimensions']=l\n",
    "                else:\n",
    "                    if l[j][0]>16 or l[j][1]>2.5:\n",
    "                        for k in range(2):\n",
    "                            l[j][k]=round(l[j][k]*0.01, 10)\n",
    "                        if l[j][0]>=16 or l[j][1]>=2.5:\n",
    "                            for k in range(2):\n",
    "                                l[j][k]=round(l[j][k]*0.1, 10)\n",
    "                    if l[j][0]<=16 and l[j][1]<=2.5:\n",
    "                        for k in range(2):\n",
    "                            l[j][k]=round(l[j][k]*100, 10)\n",
    "                        data_tab.at[i, 'dimensions']=l"
   ]
  },
  {
   "cell_type": "markdown",
   "id": "ffe9c30f",
   "metadata": {},
   "source": [
    "# Этап 4. Распознавание количества грузовых мест"
   ]
  },
  {
   "cell_type": "markdown",
   "id": "a2311055",
   "metadata": {},
   "source": [
    "Следующая часть кода позволяет распознать количество грузовых мест с помощью регурного выражения"
   ]
  },
  {
   "cell_type": "code",
   "execution_count": 247,
   "id": "3cda6d9a",
   "metadata": {},
   "outputs": [],
   "source": [
    "res2=data_tab['Количество грузовых мест'].astype(str).str.findall(r'(?<![хХ,\\-\\d(])([0-9]+)(?![-х,мх)])(?!(\\d* шт)|(\\d* кг)|(\\d* л)|(\\d*л)|(\\d* бочки)|(\\d*-)|(\\d*х))', flags=re.I)"
   ]
  },
  {
   "cell_type": "code",
   "execution_count": 248,
   "id": "623e0942",
   "metadata": {},
   "outputs": [],
   "source": [
    "# Приведение к общему типу различных значений\n",
    "for i in range(len(res2)):\n",
    "    if type(res2[i])==list and len(res2[i])>0:\n",
    "        res2[i]=sum([float(x[0]) for x in res2[i]])\n",
    "    if type(data_tab.loc[i, 'Количество грузовых мест'])==int:\n",
    "        res2[i]=data_tab.loc[i, 'Количество грузовых мест']"
   ]
  },
  {
   "cell_type": "code",
   "execution_count": 249,
   "id": "37729314",
   "metadata": {},
   "outputs": [
    {
     "data": {
      "text/plain": [
       "0    1.0\n",
       "1    2.0\n",
       "2    1.0\n",
       "3    1.0\n",
       "4    3.0\n",
       "Name: Количество грузовых мест, dtype: object"
      ]
     },
     "execution_count": 249,
     "metadata": {},
     "output_type": "execute_result"
    }
   ],
   "source": [
    "res2.head()"
   ]
  },
  {
   "cell_type": "code",
   "execution_count": 250,
   "id": "ae00fbcc",
   "metadata": {},
   "outputs": [],
   "source": [
    "data_tab['number_of_packages']=res2"
   ]
  },
  {
   "cell_type": "code",
   "execution_count": 251,
   "id": "04bae5c1",
   "metadata": {},
   "outputs": [],
   "source": [
    "# Добавление в список кол-ва грузовых мест, если оно указано и совпадает с данными габаритов грузов. Если не указано, но габариты только одни, то присваивается одно грузовое место\n",
    "for i in range(data_tab.shape[0]):\n",
    "    l=data_tab.loc[i, 'dimensions']\n",
    "    if type(l)==list:\n",
    "        for j in range(len(l)):\n",
    "            if l[j][4]=='' and len(l[j])==6 and len(l)==data_tab.loc[i, 'number_of_packages']:\n",
    "                l[j][4]=1\n",
    "            elif l[j][4]=='' and len(l[j])==6 and len(l)==1:\n",
    "                l[j][4]=data_tab.loc[i, 'number_of_packages']\n",
    "            if l[j][3]=='' and len(l[j])==5 and len(l)==data_tab.loc[i, 'number_of_packages']:\n",
    "                l[j][3]=1\n",
    "            elif l[j][3]=='' and len(l[j])==5 and len(l)==1:\n",
    "                l[j][3]=data_tab.loc[i, 'number_of_packages']\n",
    "            data_tab.at[i, 'dimensions']=l   "
   ]
  },
  {
   "cell_type": "code",
   "execution_count": 252,
   "id": "a909a08e",
   "metadata": {},
   "outputs": [],
   "source": [
    "#data_tab.to_excel('output.xlsx')"
   ]
  },
  {
   "cell_type": "markdown",
   "id": "4c59f411",
   "metadata": {},
   "source": [
    "# Этап 5. Распознавание веса груза"
   ]
  },
  {
   "cell_type": "markdown",
   "id": "0dc5212e",
   "metadata": {},
   "source": [
    "Следующая часть кода позволяет распознать вес груза, привести к единой размерности"
   ]
  },
  {
   "cell_type": "code",
   "execution_count": 253,
   "id": "baee23dc",
   "metadata": {},
   "outputs": [],
   "source": [
    "data_tab['Общий вес груза, кг']=data_tab['Общий вес груза, кг'].astype(str)"
   ]
  },
  {
   "cell_type": "code",
   "execution_count": 254,
   "id": "69fb53b5",
   "metadata": {},
   "outputs": [],
   "source": [
    "res1 = data_tab['Общий вес груза, кг'].str.findall(r\"([0-9]+[,.]*[0-9]*)[ ]*(кг|тн|ТН|КГ)\", flags=re.IGNORECASE)"
   ]
  },
  {
   "cell_type": "code",
   "execution_count": 255,
   "id": "05bf5c22",
   "metadata": {},
   "outputs": [],
   "source": [
    "for i in range(res1.shape[0]):\n",
    "    if type(res1[i])==list:\n",
    "        res1[i] = list(map(list, res1[i]))"
   ]
  },
  {
   "cell_type": "code",
   "execution_count": 256,
   "id": "f37f0e26",
   "metadata": {},
   "outputs": [],
   "source": [
    "res1 [res1.str.len() == 0] = data_tab['Общий вес груза, кг'].str.findall(r\"(?<![\\.х\\-\\d])([0-9]+[,.]*[0-9]*)(?![\\w .х-])\", flags=re.IGNORECASE)"
   ]
  },
  {
   "cell_type": "code",
   "execution_count": 257,
   "id": "6336b219",
   "metadata": {},
   "outputs": [],
   "source": [
    "data_tab['weight']=res1"
   ]
  },
  {
   "cell_type": "code",
   "execution_count": 258,
   "id": "831eaf13",
   "metadata": {},
   "outputs": [],
   "source": [
    "for i in range(data_tab.shape[0]):\n",
    "    l=data_tab.loc[i, 'weight']\n",
    "    if type(l)==list and len(l)>0:\n",
    "        #Одно значение\n",
    "        if isinstance(l, list)==True and len(l)==1 and isinstance(l[0], list)==False:\n",
    "            if type(l[0])==str:\n",
    "                l[0]=float(l[0].replace(',', '.').replace('..', ''))\n",
    "            if l[0]>0:\n",
    "                data_tab.at[i, 'weight']=l[0]\n",
    "            else:\n",
    "                    data_tab.at[i, 'weight']=''\n",
    "        #В списке два значения\n",
    "        if isinstance(l, list)==True and isinstance(l[0], list)==False and len(l)>1:\n",
    "            if len(l)>1:\n",
    "                for j in range(len(l)):\n",
    "                    if type(l[j])==str:\n",
    "                        l[j]=float(l[j].replace(',', '.').replace('..', ''))\n",
    "                summ=0\n",
    "                m=[]\n",
    "                for k in range(len(l)):\n",
    "                    summ=summ+l[k]\n",
    "                m.append(summ)\n",
    "                l=m\n",
    "                if l[0]>0:\n",
    "                    data_tab.at[i, 'weight']=l[0]\n",
    "                else:\n",
    "                    data_tab.at[i, 'weight']=''\n",
    "        #Много списков в одном списке\n",
    "        if isinstance(l, list)==True and isinstance(l[0], list)==True:\n",
    "            for j in range(len(l)):\n",
    "                if type(l[j][0])==str:\n",
    "                    l[j][0]=float(l[j][0].replace(',', '.').replace('..', ''))\n",
    "            if len(l)>1:\n",
    "                summ=0\n",
    "                m=[]\n",
    "                for k in range(len(l)):\n",
    "                    summ=summ+l[k][0]\n",
    "                m.append(summ)\n",
    "                m.append(l[k][1])\n",
    "                l=m\n",
    "                if l[1]=='кг' or l[1]=='КГ':\n",
    "                    data_tab.at[i, 'weight']=l\n",
    "                elif l[1]=='тн' or l[1]=='ТН':\n",
    "                    l[0]=l[0]*1000\n",
    "                    l[1]='кг'\n",
    "                if l[0]>0:\n",
    "                    data_tab.at[i, 'weight']=l[0]\n",
    "                else:\n",
    "                    data_tab.at[i, 'weight']=''\n",
    "            if len(l)==1:\n",
    "                if type(l[0][0])==str:\n",
    "                    l[0][0]=float(l[0][0].replace(',', '.').replace('..', ''))\n",
    "                if l[0][1]=='кг' or l[0][1]=='КГ':\n",
    "                    data_tab.at[i, 'weight']=l\n",
    "                elif l[0][1]=='тн' or l[0][1]=='ТН':\n",
    "                    l[0][0]=l[0][0]*1000\n",
    "                    l[0][1]='кг'\n",
    "                if l[0][0]>0:\n",
    "                    data_tab.at[i, 'weight']=l[0][0]\n",
    "                else:\n",
    "                    data_tab.at[i, 'weight']=''"
   ]
  },
  {
   "cell_type": "code",
   "execution_count": 259,
   "id": "0a6c6f00",
   "metadata": {},
   "outputs": [],
   "source": [
    "data_tab.to_excel('output.xlsx')"
   ]
  },
  {
   "cell_type": "code",
   "execution_count": null,
   "id": "2f6812bc",
   "metadata": {},
   "outputs": [],
   "source": []
  }
 ],
 "metadata": {
  "kernelspec": {
   "display_name": "Python 3 (ipykernel)",
   "language": "python",
   "name": "python3"
  },
  "language_info": {
   "codemirror_mode": {
    "name": "ipython",
    "version": 3
   },
   "file_extension": ".py",
   "mimetype": "text/x-python",
   "name": "python",
   "nbconvert_exporter": "python",
   "pygments_lexer": "ipython3",
   "version": "3.9.12"
  }
 },
 "nbformat": 4,
 "nbformat_minor": 5
}

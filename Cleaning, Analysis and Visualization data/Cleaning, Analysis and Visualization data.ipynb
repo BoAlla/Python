{
 "cells": [
  {
   "cell_type": "markdown",
   "id": "ebee5c9c",
   "metadata": {},
   "source": [
    "# Этап 1. Получение данных"
   ]
  },
  {
   "cell_type": "markdown",
   "id": "f547d2c2",
   "metadata": {},
   "source": [
    "Оригинал файла, который используется далее можно найти по ссылке:\n",
    "https://www.kaggle.com/datasets/shivamb/netflix-shows"
   ]
  },
  {
   "cell_type": "code",
   "execution_count": 290,
   "id": "05807b1f",
   "metadata": {},
   "outputs": [],
   "source": [
    "import pandas as pd"
   ]
  },
  {
   "cell_type": "markdown",
   "id": "32d41933",
   "metadata": {},
   "source": [
    "Прочитаем файл netflix.csv и сохраним его в переменной df."
   ]
  },
  {
   "cell_type": "code",
   "execution_count": 314,
   "id": "cc483a57",
   "metadata": {},
   "outputs": [],
   "source": [
    "df = pd.read_csv('netflix.csv', )"
   ]
  },
  {
   "cell_type": "markdown",
   "id": "e001f41b",
   "metadata": {},
   "source": [
    "Получим первых 10 строк таблицы."
   ]
  },
  {
   "cell_type": "code",
   "execution_count": 315,
   "id": "0fa031ec",
   "metadata": {},
   "outputs": [
    {
     "data": {
      "text/html": [
       "<div>\n",
       "<style scoped>\n",
       "    .dataframe tbody tr th:only-of-type {\n",
       "        vertical-align: middle;\n",
       "    }\n",
       "\n",
       "    .dataframe tbody tr th {\n",
       "        vertical-align: top;\n",
       "    }\n",
       "\n",
       "    .dataframe thead th {\n",
       "        text-align: right;\n",
       "    }\n",
       "</style>\n",
       "<table border=\"1\" class=\"dataframe\">\n",
       "  <thead>\n",
       "    <tr style=\"text-align: right;\">\n",
       "      <th></th>\n",
       "      <th>show_id</th>\n",
       "      <th>type</th>\n",
       "      <th>title</th>\n",
       "      <th>director</th>\n",
       "      <th>cast</th>\n",
       "      <th>country</th>\n",
       "      <th>date_added</th>\n",
       "      <th>release_year</th>\n",
       "      <th>rating</th>\n",
       "      <th>duration</th>\n",
       "      <th>listed_in</th>\n",
       "      <th>description</th>\n",
       "    </tr>\n",
       "  </thead>\n",
       "  <tbody>\n",
       "    <tr>\n",
       "      <th>0</th>\n",
       "      <td>s1</td>\n",
       "      <td>Movie</td>\n",
       "      <td>Dick Johnson Is Dead</td>\n",
       "      <td>Kirsten Johnson</td>\n",
       "      <td>NaN</td>\n",
       "      <td>United States</td>\n",
       "      <td>September 25, 2021</td>\n",
       "      <td>2020</td>\n",
       "      <td>PG-13</td>\n",
       "      <td>90 min</td>\n",
       "      <td>Documentaries</td>\n",
       "      <td>As her father nears the end of his life, filmm...</td>\n",
       "    </tr>\n",
       "    <tr>\n",
       "      <th>1</th>\n",
       "      <td>s2</td>\n",
       "      <td>TV Show</td>\n",
       "      <td>Blood &amp; Water</td>\n",
       "      <td>NaN</td>\n",
       "      <td>Ama Qamata, Khosi Ngema, Gail Mabalane, Thaban...</td>\n",
       "      <td>South Africa</td>\n",
       "      <td>September 24, 2021</td>\n",
       "      <td>2021</td>\n",
       "      <td>TV-MA</td>\n",
       "      <td>2 Seasons</td>\n",
       "      <td>International TV Shows, TV Dramas, TV Mysteries</td>\n",
       "      <td>After crossing paths at a party, a Cape Town t...</td>\n",
       "    </tr>\n",
       "    <tr>\n",
       "      <th>2</th>\n",
       "      <td>s3</td>\n",
       "      <td>TV Show</td>\n",
       "      <td>Ganglands</td>\n",
       "      <td>Julien Leclercq</td>\n",
       "      <td>Sami Bouajila, Tracy Gotoas, Samuel Jouy, Nabi...</td>\n",
       "      <td>NaN</td>\n",
       "      <td>September 24, 2021</td>\n",
       "      <td>2021</td>\n",
       "      <td>TV-MA</td>\n",
       "      <td>1 Season</td>\n",
       "      <td>Crime TV Shows, International TV Shows, TV Act...</td>\n",
       "      <td>To protect his family from a powerful drug lor...</td>\n",
       "    </tr>\n",
       "    <tr>\n",
       "      <th>3</th>\n",
       "      <td>s4</td>\n",
       "      <td>TV Show</td>\n",
       "      <td>Jailbirds New Orleans</td>\n",
       "      <td>NaN</td>\n",
       "      <td>NaN</td>\n",
       "      <td>NaN</td>\n",
       "      <td>September 24, 2021</td>\n",
       "      <td>2021</td>\n",
       "      <td>TV-MA</td>\n",
       "      <td>1 Season</td>\n",
       "      <td>Docuseries, Reality TV</td>\n",
       "      <td>Feuds, flirtations and toilet talk go down amo...</td>\n",
       "    </tr>\n",
       "    <tr>\n",
       "      <th>4</th>\n",
       "      <td>s5</td>\n",
       "      <td>TV Show</td>\n",
       "      <td>Kota Factory</td>\n",
       "      <td>NaN</td>\n",
       "      <td>Mayur More, Jitendra Kumar, Ranjan Raj, Alam K...</td>\n",
       "      <td>India</td>\n",
       "      <td>September 24, 2021</td>\n",
       "      <td>2021</td>\n",
       "      <td>TV-MA</td>\n",
       "      <td>2 Seasons</td>\n",
       "      <td>International TV Shows, Romantic TV Shows, TV ...</td>\n",
       "      <td>In a city of coaching centers known to train I...</td>\n",
       "    </tr>\n",
       "    <tr>\n",
       "      <th>5</th>\n",
       "      <td>s6</td>\n",
       "      <td>TV Show</td>\n",
       "      <td>Midnight Mass</td>\n",
       "      <td>Mike Flanagan</td>\n",
       "      <td>Kate Siegel, Zach Gilford, Hamish Linklater, H...</td>\n",
       "      <td>NaN</td>\n",
       "      <td>September 24, 2021</td>\n",
       "      <td>2021</td>\n",
       "      <td>TV-MA</td>\n",
       "      <td>1 Season</td>\n",
       "      <td>TV Dramas, TV Horror, TV Mysteries</td>\n",
       "      <td>The arrival of a charismatic young priest brin...</td>\n",
       "    </tr>\n",
       "    <tr>\n",
       "      <th>6</th>\n",
       "      <td>s7</td>\n",
       "      <td>Movie</td>\n",
       "      <td>My Little Pony: A New Generation</td>\n",
       "      <td>Robert Cullen, José Luis Ucha</td>\n",
       "      <td>Vanessa Hudgens, Kimiko Glenn, James Marsden, ...</td>\n",
       "      <td>NaN</td>\n",
       "      <td>September 24, 2021</td>\n",
       "      <td>2021</td>\n",
       "      <td>PG</td>\n",
       "      <td>91 min</td>\n",
       "      <td>Children &amp; Family Movies</td>\n",
       "      <td>Equestria's divided. But a bright-eyed hero be...</td>\n",
       "    </tr>\n",
       "    <tr>\n",
       "      <th>7</th>\n",
       "      <td>s8</td>\n",
       "      <td>Movie</td>\n",
       "      <td>Sankofa</td>\n",
       "      <td>Haile Gerima</td>\n",
       "      <td>Kofi Ghanaba, Oyafunmike Ogunlano, Alexandra D...</td>\n",
       "      <td>United States, Ghana, Burkina Faso, United Kin...</td>\n",
       "      <td>September 24, 2021</td>\n",
       "      <td>1993</td>\n",
       "      <td>TV-MA</td>\n",
       "      <td>125 min</td>\n",
       "      <td>Dramas, Independent Movies, International Movies</td>\n",
       "      <td>On a photo shoot in Ghana, an American model s...</td>\n",
       "    </tr>\n",
       "    <tr>\n",
       "      <th>8</th>\n",
       "      <td>s9</td>\n",
       "      <td>TV Show</td>\n",
       "      <td>The Great British Baking Show</td>\n",
       "      <td>Andy Devonshire</td>\n",
       "      <td>Mel Giedroyc, Sue Perkins, Mary Berry, Paul Ho...</td>\n",
       "      <td>United Kingdom</td>\n",
       "      <td>September 24, 2021</td>\n",
       "      <td>2021</td>\n",
       "      <td>TV-14</td>\n",
       "      <td>9 Seasons</td>\n",
       "      <td>British TV Shows, Reality TV</td>\n",
       "      <td>A talented batch of amateur bakers face off in...</td>\n",
       "    </tr>\n",
       "    <tr>\n",
       "      <th>9</th>\n",
       "      <td>s10</td>\n",
       "      <td>Movie</td>\n",
       "      <td>The Starling</td>\n",
       "      <td>Theodore Melfi</td>\n",
       "      <td>Melissa McCarthy, Chris O'Dowd, Kevin Kline, T...</td>\n",
       "      <td>United States</td>\n",
       "      <td>September 24, 2021</td>\n",
       "      <td>2021</td>\n",
       "      <td>PG-13</td>\n",
       "      <td>104 min</td>\n",
       "      <td>Comedies, Dramas</td>\n",
       "      <td>A woman adjusting to life after a loss contend...</td>\n",
       "    </tr>\n",
       "  </tbody>\n",
       "</table>\n",
       "</div>"
      ],
      "text/plain": [
       "  show_id     type                             title  \\\n",
       "0      s1    Movie              Dick Johnson Is Dead   \n",
       "1      s2  TV Show                     Blood & Water   \n",
       "2      s3  TV Show                         Ganglands   \n",
       "3      s4  TV Show             Jailbirds New Orleans   \n",
       "4      s5  TV Show                      Kota Factory   \n",
       "5      s6  TV Show                     Midnight Mass   \n",
       "6      s7    Movie  My Little Pony: A New Generation   \n",
       "7      s8    Movie                           Sankofa   \n",
       "8      s9  TV Show     The Great British Baking Show   \n",
       "9     s10    Movie                      The Starling   \n",
       "\n",
       "                        director  \\\n",
       "0                Kirsten Johnson   \n",
       "1                            NaN   \n",
       "2                Julien Leclercq   \n",
       "3                            NaN   \n",
       "4                            NaN   \n",
       "5                  Mike Flanagan   \n",
       "6  Robert Cullen, José Luis Ucha   \n",
       "7                   Haile Gerima   \n",
       "8                Andy Devonshire   \n",
       "9                 Theodore Melfi   \n",
       "\n",
       "                                                cast  \\\n",
       "0                                                NaN   \n",
       "1  Ama Qamata, Khosi Ngema, Gail Mabalane, Thaban...   \n",
       "2  Sami Bouajila, Tracy Gotoas, Samuel Jouy, Nabi...   \n",
       "3                                                NaN   \n",
       "4  Mayur More, Jitendra Kumar, Ranjan Raj, Alam K...   \n",
       "5  Kate Siegel, Zach Gilford, Hamish Linklater, H...   \n",
       "6  Vanessa Hudgens, Kimiko Glenn, James Marsden, ...   \n",
       "7  Kofi Ghanaba, Oyafunmike Ogunlano, Alexandra D...   \n",
       "8  Mel Giedroyc, Sue Perkins, Mary Berry, Paul Ho...   \n",
       "9  Melissa McCarthy, Chris O'Dowd, Kevin Kline, T...   \n",
       "\n",
       "                                             country          date_added  \\\n",
       "0                                      United States  September 25, 2021   \n",
       "1                                       South Africa  September 24, 2021   \n",
       "2                                                NaN  September 24, 2021   \n",
       "3                                                NaN  September 24, 2021   \n",
       "4                                              India  September 24, 2021   \n",
       "5                                                NaN  September 24, 2021   \n",
       "6                                                NaN  September 24, 2021   \n",
       "7  United States, Ghana, Burkina Faso, United Kin...  September 24, 2021   \n",
       "8                                     United Kingdom  September 24, 2021   \n",
       "9                                      United States  September 24, 2021   \n",
       "\n",
       "   release_year rating   duration  \\\n",
       "0          2020  PG-13     90 min   \n",
       "1          2021  TV-MA  2 Seasons   \n",
       "2          2021  TV-MA   1 Season   \n",
       "3          2021  TV-MA   1 Season   \n",
       "4          2021  TV-MA  2 Seasons   \n",
       "5          2021  TV-MA   1 Season   \n",
       "6          2021     PG     91 min   \n",
       "7          1993  TV-MA    125 min   \n",
       "8          2021  TV-14  9 Seasons   \n",
       "9          2021  PG-13    104 min   \n",
       "\n",
       "                                           listed_in  \\\n",
       "0                                      Documentaries   \n",
       "1    International TV Shows, TV Dramas, TV Mysteries   \n",
       "2  Crime TV Shows, International TV Shows, TV Act...   \n",
       "3                             Docuseries, Reality TV   \n",
       "4  International TV Shows, Romantic TV Shows, TV ...   \n",
       "5                 TV Dramas, TV Horror, TV Mysteries   \n",
       "6                           Children & Family Movies   \n",
       "7   Dramas, Independent Movies, International Movies   \n",
       "8                       British TV Shows, Reality TV   \n",
       "9                                   Comedies, Dramas   \n",
       "\n",
       "                                         description  \n",
       "0  As her father nears the end of his life, filmm...  \n",
       "1  After crossing paths at a party, a Cape Town t...  \n",
       "2  To protect his family from a powerful drug lor...  \n",
       "3  Feuds, flirtations and toilet talk go down amo...  \n",
       "4  In a city of coaching centers known to train I...  \n",
       "5  The arrival of a charismatic young priest brin...  \n",
       "6  Equestria's divided. But a bright-eyed hero be...  \n",
       "7  On a photo shoot in Ghana, an American model s...  \n",
       "8  A talented batch of amateur bakers face off in...  \n",
       "9  A woman adjusting to life after a loss contend...  "
      ]
     },
     "execution_count": 315,
     "metadata": {},
     "output_type": "execute_result"
    }
   ],
   "source": [
    "df.head(10)"
   ]
  },
  {
   "cell_type": "markdown",
   "id": "0a1980c3",
   "metadata": {},
   "source": [
    "Общая информация о данных таблицы df."
   ]
  },
  {
   "cell_type": "code",
   "execution_count": 316,
   "id": "6672935e",
   "metadata": {},
   "outputs": [
    {
     "name": "stdout",
     "output_type": "stream",
     "text": [
      "<class 'pandas.core.frame.DataFrame'>\n",
      "RangeIndex: 8807 entries, 0 to 8806\n",
      "Data columns (total 12 columns):\n",
      " #   Column        Non-Null Count  Dtype \n",
      "---  ------        --------------  ----- \n",
      " 0   show_id       8807 non-null   object\n",
      " 1   type          8807 non-null   object\n",
      " 2   title         8807 non-null   object\n",
      " 3   director      6173 non-null   object\n",
      " 4   cast          7982 non-null   object\n",
      " 5   country       7976 non-null   object\n",
      " 6   date_added    8797 non-null   object\n",
      " 7   release_year  8807 non-null   int64 \n",
      " 8   rating        8803 non-null   object\n",
      " 9   duration      8804 non-null   object\n",
      " 10  listed_in     8807 non-null   object\n",
      " 11  description   8807 non-null   object\n",
      "dtypes: int64(1), object(11)\n",
      "memory usage: 825.8+ KB\n"
     ]
    }
   ],
   "source": [
    "df.info()"
   ]
  },
  {
   "cell_type": "markdown",
   "id": "a11bfdf8",
   "metadata": {},
   "source": [
    "Рассмотрим полученную информацию подробнее.\n",
    "\n",
    "Всего в таблице 12 столбцов, тип данных object и int64.\n",
    "\n",
    "Подробно разберём, какие в df столбцы и какую информацию они содержат:\n",
    "\n",
    "- show_id — идентификатор кино;\n",
    "- type - тип кино;\n",
    "- title — название кино;\n",
    "- director - режиссер;\n",
    "- cast - актерский состав;\n",
    "- country - старана, в которой снято кино;\n",
    "- date_added - дата добавления кино на стриминговый сервис;\n",
    "- release_year - год релиза;\n",
    "- rating - ограничения к просмотру;\n",
    "- duration - продолжительность;\n",
    "- listed_in - перечислены в категориях;\n",
    "- description - описание кино. \n",
    "\n",
    "Количество значений в столбцах разное."
   ]
  },
  {
   "cell_type": "markdown",
   "id": "73a8c648",
   "metadata": {},
   "source": [
    "# Этап 2. Предобработка данных"
   ]
  },
  {
   "cell_type": "markdown",
   "id": "7c07e521",
   "metadata": {},
   "source": [
    "<b>Мы собираемся</b>:\n",
    "<ol>\n",
    "<li>Устранить пропуски в данных</li>\n",
    "<li>Устранить дубликаты</li>\n",
    "<li>Отбросить ненужные столбцы</li>\n",
    "<li>Разделить столбцы</li>  \n",
    "</ol>"
   ]
  },
  {
   "cell_type": "markdown",
   "id": "eb222bd3",
   "metadata": {},
   "source": [
    "## Работа с пропусками в данных"
   ]
  },
  {
   "cell_type": "markdown",
   "id": "51976e89",
   "metadata": {},
   "source": [
    "Проверим данные на наличие пропусков вызовом набора методов для суммирования пропущенных значений."
   ]
  },
  {
   "cell_type": "code",
   "execution_count": 317,
   "id": "fef03459",
   "metadata": {},
   "outputs": [
    {
     "data": {
      "text/plain": [
       "show_id            0\n",
       "type               0\n",
       "title              0\n",
       "director        2634\n",
       "cast             825\n",
       "country          831\n",
       "date_added        10\n",
       "release_year       0\n",
       "rating             4\n",
       "duration           3\n",
       "listed_in          0\n",
       "description        0\n",
       "dtype: int64"
      ]
     },
     "execution_count": 317,
     "metadata": {},
     "output_type": "execute_result"
    }
   ],
   "source": [
    "df.isnull().sum()"
   ]
  },
  {
   "cell_type": "markdown",
   "id": "ff2447c0",
   "metadata": {},
   "source": [
    "Пустые значения свидетельствуют, что для некоторых фильмов доступна не вся информация. Наибольшее количество пропусков в столбце \"director\". </br>\n",
    "\n",
    "Заменим пропущенные значения в столбцах с именем режиссера, актерским составом и ограничениями к просмотру на 'unknown'. После этой операции нужно убедиться, что таблица больше не содержит пропусков."
   ]
  },
  {
   "cell_type": "code",
   "execution_count": 318,
   "id": "b41ab53f",
   "metadata": {},
   "outputs": [],
   "source": [
    "df['director'] = df['director'].fillna('unknown')"
   ]
  },
  {
   "cell_type": "code",
   "execution_count": 319,
   "id": "e8af5a0a",
   "metadata": {},
   "outputs": [
    {
     "data": {
      "text/plain": [
       "show_id           0\n",
       "type              0\n",
       "title             0\n",
       "director          0\n",
       "cast            825\n",
       "country         831\n",
       "date_added       10\n",
       "release_year      0\n",
       "rating            4\n",
       "duration          3\n",
       "listed_in         0\n",
       "description       0\n",
       "dtype: int64"
      ]
     },
     "execution_count": 319,
     "metadata": {},
     "output_type": "execute_result"
    }
   ],
   "source": [
    "df.isnull().sum()"
   ]
  },
  {
   "cell_type": "code",
   "execution_count": 320,
   "id": "742ffe28",
   "metadata": {},
   "outputs": [],
   "source": [
    "df['cast'] = df['cast'].fillna('unknown')"
   ]
  },
  {
   "cell_type": "code",
   "execution_count": 321,
   "id": "9708aeb3",
   "metadata": {},
   "outputs": [
    {
     "data": {
      "text/plain": [
       "show_id           0\n",
       "type              0\n",
       "title             0\n",
       "director          0\n",
       "cast              0\n",
       "country         831\n",
       "date_added       10\n",
       "release_year      0\n",
       "rating            4\n",
       "duration          3\n",
       "listed_in         0\n",
       "description       0\n",
       "dtype: int64"
      ]
     },
     "execution_count": 321,
     "metadata": {},
     "output_type": "execute_result"
    }
   ],
   "source": [
    "df.isnull().sum()"
   ]
  },
  {
   "cell_type": "code",
   "execution_count": 322,
   "id": "57900eaa",
   "metadata": {},
   "outputs": [],
   "source": [
    "df['rating'] = df['rating'].fillna('unknown')"
   ]
  },
  {
   "cell_type": "code",
   "execution_count": 323,
   "id": "bd2b1fd0",
   "metadata": {},
   "outputs": [
    {
     "data": {
      "text/plain": [
       "show_id           0\n",
       "type              0\n",
       "title             0\n",
       "director          0\n",
       "cast              0\n",
       "country         831\n",
       "date_added       10\n",
       "release_year      0\n",
       "rating            0\n",
       "duration          3\n",
       "listed_in         0\n",
       "description       0\n",
       "dtype: int64"
      ]
     },
     "execution_count": 323,
     "metadata": {},
     "output_type": "execute_result"
    }
   ],
   "source": [
    "df.isnull().sum()"
   ]
  },
  {
   "cell_type": "markdown",
   "id": "fe9cae52",
   "metadata": {},
   "source": [
    "Удаляем в столбцах со страной, датой добавления на стриминговый сервис и продолжительностью пустые значения; убеждаемся, что их больше не осталось."
   ]
  },
  {
   "cell_type": "code",
   "execution_count": 324,
   "id": "a5e799e4",
   "metadata": {},
   "outputs": [],
   "source": [
    "df.dropna(subset = ['country'], inplace = True)"
   ]
  },
  {
   "cell_type": "code",
   "execution_count": 325,
   "id": "49422a95",
   "metadata": {},
   "outputs": [],
   "source": [
    "df.dropna(subset = ['date_added'], inplace = True)"
   ]
  },
  {
   "cell_type": "code",
   "execution_count": 326,
   "id": "127029fc",
   "metadata": {},
   "outputs": [],
   "source": [
    "df.dropna(subset = ['duration'], inplace = True)"
   ]
  },
  {
   "cell_type": "code",
   "execution_count": 327,
   "id": "b8863a0c",
   "metadata": {},
   "outputs": [
    {
     "data": {
      "text/plain": [
       "show_id         0\n",
       "type            0\n",
       "title           0\n",
       "director        0\n",
       "cast            0\n",
       "country         0\n",
       "date_added      0\n",
       "release_year    0\n",
       "rating          0\n",
       "duration        0\n",
       "listed_in       0\n",
       "description     0\n",
       "dtype: int64"
      ]
     },
     "execution_count": 327,
     "metadata": {},
     "output_type": "execute_result"
    }
   ],
   "source": [
    "df.isnull().sum()"
   ]
  },
  {
   "cell_type": "markdown",
   "id": "4c09980d",
   "metadata": {},
   "source": [
    "Дополнительно проверим, есть ли в столбцах 'country', 'date_added', 'duration' данные с пустыми строковыми значениями."
   ]
  },
  {
   "cell_type": "code",
   "execution_count": 328,
   "id": "53e8eba7",
   "metadata": {
    "scrolled": true
   },
   "outputs": [
    {
     "data": {
      "text/html": [
       "<div>\n",
       "<style scoped>\n",
       "    .dataframe tbody tr th:only-of-type {\n",
       "        vertical-align: middle;\n",
       "    }\n",
       "\n",
       "    .dataframe tbody tr th {\n",
       "        vertical-align: top;\n",
       "    }\n",
       "\n",
       "    .dataframe thead th {\n",
       "        text-align: right;\n",
       "    }\n",
       "</style>\n",
       "<table border=\"1\" class=\"dataframe\">\n",
       "  <thead>\n",
       "    <tr style=\"text-align: right;\">\n",
       "      <th></th>\n",
       "      <th>show_id</th>\n",
       "      <th>type</th>\n",
       "      <th>title</th>\n",
       "      <th>director</th>\n",
       "      <th>cast</th>\n",
       "      <th>country</th>\n",
       "      <th>date_added</th>\n",
       "      <th>release_year</th>\n",
       "      <th>rating</th>\n",
       "      <th>duration</th>\n",
       "      <th>listed_in</th>\n",
       "      <th>description</th>\n",
       "    </tr>\n",
       "  </thead>\n",
       "  <tbody>\n",
       "  </tbody>\n",
       "</table>\n",
       "</div>"
      ],
      "text/plain": [
       "Empty DataFrame\n",
       "Columns: [show_id, type, title, director, cast, country, date_added, release_year, rating, duration, listed_in, description]\n",
       "Index: []"
      ]
     },
     "execution_count": 328,
     "metadata": {},
     "output_type": "execute_result"
    }
   ],
   "source": [
    "df[df['country']=='']"
   ]
  },
  {
   "cell_type": "markdown",
   "id": "202fce62",
   "metadata": {},
   "source": [
    "## Устранение дубликатов в данных"
   ]
  },
  {
   "cell_type": "markdown",
   "id": "03c4894c",
   "metadata": {},
   "source": [
    "Необходимо установить наличие дубликатов. Если найдутся, удаляем, и проверяем, все ли удалились."
   ]
  },
  {
   "cell_type": "code",
   "execution_count": 329,
   "id": "99362301",
   "metadata": {},
   "outputs": [
    {
     "data": {
      "text/plain": [
       "0"
      ]
     },
     "execution_count": 329,
     "metadata": {},
     "output_type": "execute_result"
    }
   ],
   "source": [
    "df.duplicated().sum()"
   ]
  },
  {
   "cell_type": "markdown",
   "id": "0efe77bb",
   "metadata": {},
   "source": [
    "Дубликаты не обнаружены. Перейдем к следующему пункту."
   ]
  },
  {
   "cell_type": "markdown",
   "id": "4865ca2e",
   "metadata": {},
   "source": [
    "## Отбрасывание ненужных столбцов"
   ]
  },
  {
   "cell_type": "markdown",
   "id": "292e2ae5",
   "metadata": {},
   "source": [
    "Для анализа данных и последующей визуализации можно исключить некоторые столбцы, которые не повлияют на результат: \n",
    "- Актерский состав;\n",
    "- Описание кино."
   ]
  },
  {
   "cell_type": "code",
   "execution_count": 330,
   "id": "df0007c3",
   "metadata": {},
   "outputs": [],
   "source": [
    "df.drop(labels=['cast', 'description'], axis='columns', inplace=True)"
   ]
  },
  {
   "cell_type": "code",
   "execution_count": 331,
   "id": "73a0caaa",
   "metadata": {},
   "outputs": [
    {
     "data": {
      "text/html": [
       "<div>\n",
       "<style scoped>\n",
       "    .dataframe tbody tr th:only-of-type {\n",
       "        vertical-align: middle;\n",
       "    }\n",
       "\n",
       "    .dataframe tbody tr th {\n",
       "        vertical-align: top;\n",
       "    }\n",
       "\n",
       "    .dataframe thead th {\n",
       "        text-align: right;\n",
       "    }\n",
       "</style>\n",
       "<table border=\"1\" class=\"dataframe\">\n",
       "  <thead>\n",
       "    <tr style=\"text-align: right;\">\n",
       "      <th></th>\n",
       "      <th>show_id</th>\n",
       "      <th>type</th>\n",
       "      <th>title</th>\n",
       "      <th>director</th>\n",
       "      <th>country</th>\n",
       "      <th>date_added</th>\n",
       "      <th>release_year</th>\n",
       "      <th>rating</th>\n",
       "      <th>duration</th>\n",
       "      <th>listed_in</th>\n",
       "    </tr>\n",
       "  </thead>\n",
       "  <tbody>\n",
       "    <tr>\n",
       "      <th>0</th>\n",
       "      <td>s1</td>\n",
       "      <td>Movie</td>\n",
       "      <td>Dick Johnson Is Dead</td>\n",
       "      <td>Kirsten Johnson</td>\n",
       "      <td>United States</td>\n",
       "      <td>September 25, 2021</td>\n",
       "      <td>2020</td>\n",
       "      <td>PG-13</td>\n",
       "      <td>90 min</td>\n",
       "      <td>Documentaries</td>\n",
       "    </tr>\n",
       "    <tr>\n",
       "      <th>1</th>\n",
       "      <td>s2</td>\n",
       "      <td>TV Show</td>\n",
       "      <td>Blood &amp; Water</td>\n",
       "      <td>unknown</td>\n",
       "      <td>South Africa</td>\n",
       "      <td>September 24, 2021</td>\n",
       "      <td>2021</td>\n",
       "      <td>TV-MA</td>\n",
       "      <td>2 Seasons</td>\n",
       "      <td>International TV Shows, TV Dramas, TV Mysteries</td>\n",
       "    </tr>\n",
       "    <tr>\n",
       "      <th>4</th>\n",
       "      <td>s5</td>\n",
       "      <td>TV Show</td>\n",
       "      <td>Kota Factory</td>\n",
       "      <td>unknown</td>\n",
       "      <td>India</td>\n",
       "      <td>September 24, 2021</td>\n",
       "      <td>2021</td>\n",
       "      <td>TV-MA</td>\n",
       "      <td>2 Seasons</td>\n",
       "      <td>International TV Shows, Romantic TV Shows, TV ...</td>\n",
       "    </tr>\n",
       "    <tr>\n",
       "      <th>7</th>\n",
       "      <td>s8</td>\n",
       "      <td>Movie</td>\n",
       "      <td>Sankofa</td>\n",
       "      <td>Haile Gerima</td>\n",
       "      <td>United States, Ghana, Burkina Faso, United Kin...</td>\n",
       "      <td>September 24, 2021</td>\n",
       "      <td>1993</td>\n",
       "      <td>TV-MA</td>\n",
       "      <td>125 min</td>\n",
       "      <td>Dramas, Independent Movies, International Movies</td>\n",
       "    </tr>\n",
       "    <tr>\n",
       "      <th>8</th>\n",
       "      <td>s9</td>\n",
       "      <td>TV Show</td>\n",
       "      <td>The Great British Baking Show</td>\n",
       "      <td>Andy Devonshire</td>\n",
       "      <td>United Kingdom</td>\n",
       "      <td>September 24, 2021</td>\n",
       "      <td>2021</td>\n",
       "      <td>TV-14</td>\n",
       "      <td>9 Seasons</td>\n",
       "      <td>British TV Shows, Reality TV</td>\n",
       "    </tr>\n",
       "  </tbody>\n",
       "</table>\n",
       "</div>"
      ],
      "text/plain": [
       "  show_id     type                          title         director  \\\n",
       "0      s1    Movie           Dick Johnson Is Dead  Kirsten Johnson   \n",
       "1      s2  TV Show                  Blood & Water          unknown   \n",
       "4      s5  TV Show                   Kota Factory          unknown   \n",
       "7      s8    Movie                        Sankofa     Haile Gerima   \n",
       "8      s9  TV Show  The Great British Baking Show  Andy Devonshire   \n",
       "\n",
       "                                             country          date_added  \\\n",
       "0                                      United States  September 25, 2021   \n",
       "1                                       South Africa  September 24, 2021   \n",
       "4                                              India  September 24, 2021   \n",
       "7  United States, Ghana, Burkina Faso, United Kin...  September 24, 2021   \n",
       "8                                     United Kingdom  September 24, 2021   \n",
       "\n",
       "   release_year rating   duration  \\\n",
       "0          2020  PG-13     90 min   \n",
       "1          2021  TV-MA  2 Seasons   \n",
       "4          2021  TV-MA  2 Seasons   \n",
       "7          1993  TV-MA    125 min   \n",
       "8          2021  TV-14  9 Seasons   \n",
       "\n",
       "                                           listed_in  \n",
       "0                                      Documentaries  \n",
       "1    International TV Shows, TV Dramas, TV Mysteries  \n",
       "4  International TV Shows, Romantic TV Shows, TV ...  \n",
       "7   Dramas, Independent Movies, International Movies  \n",
       "8                       British TV Shows, Reality TV  "
      ]
     },
     "execution_count": 331,
     "metadata": {},
     "output_type": "execute_result"
    }
   ],
   "source": [
    "df.head()"
   ]
  },
  {
   "cell_type": "markdown",
   "id": "c1dcaca1",
   "metadata": {},
   "source": [
    "## Разделение столбцов"
   ]
  },
  {
   "cell_type": "markdown",
   "id": "1012b57c",
   "metadata": {},
   "source": [
    "Для чистой и красивой визуализации данных изменим столбец \"country\". Сейчас там содержится несколько стран, будем брать оттуда первую, которая, как предполагается, является основной. "
   ]
  },
  {
   "cell_type": "code",
   "execution_count": 332,
   "id": "8e62983e",
   "metadata": {},
   "outputs": [],
   "source": [
    "df['country'] = [l[0] for l in df['country'].str.split(',')]"
   ]
  },
  {
   "cell_type": "markdown",
   "id": "cfa507e0",
   "metadata": {},
   "source": [
    "# Этап 3. Визуализация данных"
   ]
  },
  {
   "cell_type": "markdown",
   "id": "90caab45",
   "metadata": {},
   "source": [
    "После очистки данных можно использовать датасет для визуализации."
   ]
  },
  {
   "cell_type": "markdown",
   "id": "1c630dfc",
   "metadata": {},
   "source": [
    "### 1) Посмотрим соотношение типов контента на диаграмме."
   ]
  },
  {
   "cell_type": "code",
   "execution_count": 333,
   "id": "c53e8257",
   "metadata": {},
   "outputs": [],
   "source": [
    "content_type=df.groupby('type')['type'].count()"
   ]
  },
  {
   "cell_type": "code",
   "execution_count": 334,
   "id": "88751363",
   "metadata": {},
   "outputs": [],
   "source": [
    "import matplotlib.pyplot as plt\n",
    "plt.close(\"all\")"
   ]
  },
  {
   "cell_type": "code",
   "execution_count": 335,
   "id": "61004fea",
   "metadata": {},
   "outputs": [
    {
     "data": {
      "image/png": "[encoded data removed]",
      "text/plain": [
       "<Figure size 576x360 with 1 Axes>"
      ]
     },
     "metadata": {},
     "output_type": "display_data"
    }
   ],
   "source": [
    "content_type.plot(y='type', kind='pie', autopct=\"%.2f\", figsize=(8, 5))\n",
    "plt.show()"
   ]
  },
  {
   "cell_type": "markdown",
   "id": "0d6f7c41",
   "metadata": {},
   "source": [
    "<b>Вывод:</b> </br>\n",
    "На графике видно две основные категории кино - фильмы и ТВ-шоу. </br>\n",
    "Большую часть контента составляют фильмы, которые занимают 71,43%."
   ]
  },
  {
   "cell_type": "markdown",
   "id": "d8fabb57",
   "metadata": {},
   "source": [
    "### 2) Посмотрим количество фильмов и ТВ-шоу по странам"
   ]
  },
  {
   "cell_type": "markdown",
   "id": "d6d4f3ef",
   "metadata": {},
   "source": [
    "Для этого сгруппируем значения по странам и типу кино, посчитаем количество в каждой группе и избавимся от уровня группировки, добавив колонки в таблицу."
   ]
  },
  {
   "cell_type": "code",
   "execution_count": 337,
   "id": "54e713fb",
   "metadata": {},
   "outputs": [],
   "source": [
    "content_country=df.groupby(['country', 'type'])['type'].count().unstack(level=1)"
   ]
  },
  {
   "cell_type": "markdown",
   "id": "0468f653",
   "metadata": {},
   "source": [
    "Посчитаем дополнительно сумму фильмов и ТВ-шоу в каждой стране, отсортируем список по убыванию. Далее удалим столбец с суммой для последующей визуализации."
   ]
  },
  {
   "cell_type": "code",
   "execution_count": 338,
   "id": "04ecee0e",
   "metadata": {},
   "outputs": [],
   "source": [
    "content_country['sum']=content_country['Movie']+content_country['TV Show']"
   ]
  },
  {
   "cell_type": "code",
   "execution_count": 339,
   "id": "b8df288a",
   "metadata": {},
   "outputs": [
    {
     "data": {
      "text/html": [
       "<div>\n",
       "<style scoped>\n",
       "    .dataframe tbody tr th:only-of-type {\n",
       "        vertical-align: middle;\n",
       "    }\n",
       "\n",
       "    .dataframe tbody tr th {\n",
       "        vertical-align: top;\n",
       "    }\n",
       "\n",
       "    .dataframe thead th {\n",
       "        text-align: right;\n",
       "    }\n",
       "</style>\n",
       "<table border=\"1\" class=\"dataframe\">\n",
       "  <thead>\n",
       "    <tr style=\"text-align: right;\">\n",
       "      <th>type</th>\n",
       "      <th>Movie</th>\n",
       "      <th>TV Show</th>\n",
       "      <th>sum</th>\n",
       "    </tr>\n",
       "    <tr>\n",
       "      <th>country</th>\n",
       "      <th></th>\n",
       "      <th></th>\n",
       "      <th></th>\n",
       "    </tr>\n",
       "  </thead>\n",
       "  <tbody>\n",
       "    <tr>\n",
       "      <th></th>\n",
       "      <td>1.0</td>\n",
       "      <td>1.0</td>\n",
       "      <td>2.0</td>\n",
       "    </tr>\n",
       "    <tr>\n",
       "      <th>Argentina</th>\n",
       "      <td>56.0</td>\n",
       "      <td>20.0</td>\n",
       "      <td>76.0</td>\n",
       "    </tr>\n",
       "    <tr>\n",
       "      <th>Australia</th>\n",
       "      <td>61.0</td>\n",
       "      <td>55.0</td>\n",
       "      <td>116.0</td>\n",
       "    </tr>\n",
       "    <tr>\n",
       "      <th>Austria</th>\n",
       "      <td>8.0</td>\n",
       "      <td>1.0</td>\n",
       "      <td>9.0</td>\n",
       "    </tr>\n",
       "    <tr>\n",
       "      <th>Bangladesh</th>\n",
       "      <td>3.0</td>\n",
       "      <td>NaN</td>\n",
       "      <td>NaN</td>\n",
       "    </tr>\n",
       "    <tr>\n",
       "      <th>Belarus</th>\n",
       "      <td>NaN</td>\n",
       "      <td>1.0</td>\n",
       "      <td>NaN</td>\n",
       "    </tr>\n",
       "    <tr>\n",
       "      <th>Belgium</th>\n",
       "      <td>9.0</td>\n",
       "      <td>9.0</td>\n",
       "      <td>18.0</td>\n",
       "    </tr>\n",
       "    <tr>\n",
       "      <th>Brazil</th>\n",
       "      <td>56.0</td>\n",
       "      <td>28.0</td>\n",
       "      <td>84.0</td>\n",
       "    </tr>\n",
       "    <tr>\n",
       "      <th>Bulgaria</th>\n",
       "      <td>5.0</td>\n",
       "      <td>NaN</td>\n",
       "      <td>NaN</td>\n",
       "    </tr>\n",
       "    <tr>\n",
       "      <th>Cambodia</th>\n",
       "      <td>2.0</td>\n",
       "      <td>NaN</td>\n",
       "      <td>NaN</td>\n",
       "    </tr>\n",
       "  </tbody>\n",
       "</table>\n",
       "</div>"
      ],
      "text/plain": [
       "type        Movie  TV Show    sum\n",
       "country                          \n",
       "              1.0      1.0    2.0\n",
       "Argentina    56.0     20.0   76.0\n",
       "Australia    61.0     55.0  116.0\n",
       "Austria       8.0      1.0    9.0\n",
       "Bangladesh    3.0      NaN    NaN\n",
       "Belarus       NaN      1.0    NaN\n",
       "Belgium       9.0      9.0   18.0\n",
       "Brazil       56.0     28.0   84.0\n",
       "Bulgaria      5.0      NaN    NaN\n",
       "Cambodia      2.0      NaN    NaN"
      ]
     },
     "execution_count": 339,
     "metadata": {},
     "output_type": "execute_result"
    }
   ],
   "source": [
    "content_country.head(10)"
   ]
  },
  {
   "cell_type": "code",
   "execution_count": 340,
   "id": "02d5b6ac",
   "metadata": {},
   "outputs": [],
   "source": [
    "content_country.sort_values('sum', ascending=False, inplace=True)"
   ]
  },
  {
   "cell_type": "code",
   "execution_count": 341,
   "id": "61e96d77",
   "metadata": {},
   "outputs": [],
   "source": [
    "content_country.drop(columns='sum', inplace=True)"
   ]
  },
  {
   "cell_type": "code",
   "execution_count": 342,
   "id": "be5164b7",
   "metadata": {},
   "outputs": [
    {
     "data": {
      "image/png": "[encoded data removed]",
      "text/plain": [
       "<Figure size 576x360 with 1 Axes>"
      ]
     },
     "metadata": {
      "needs_background": "light"
     },
     "output_type": "display_data"
    }
   ],
   "source": [
    "content_country.head(10).plot.bar(stacked=True, figsize=(8, 5))\n",
    "plt.show()"
   ]
  },
  {
   "cell_type": "markdown",
   "id": "321c915d",
   "metadata": {},
   "source": [
    "<b>Вывод:</b> </br>\n",
    "На графике видем, что США занимает первое место по количеству контента. </br>\n",
    "В топ-10 странах, приведенных на графике, лишь две страны пускают в прокат на стриминговом сервисе по большей части ТВ-шоу, в остальных сранах лидирующую позицицию занимают фильмы. "
   ]
  },
  {
   "cell_type": "markdown",
   "id": "c8f07f88",
   "metadata": {},
   "source": [
    "### 3) Посмотрим по годам количество кино, добавленного на стриминговый сервис"
   ]
  },
  {
   "cell_type": "markdown",
   "id": "74733a37",
   "metadata": {},
   "source": [
    "Преобразуем тип данных столбца date_added в дату, возьмем от нее год."
   ]
  },
  {
   "cell_type": "code",
   "execution_count": 343,
   "id": "c3007f7a",
   "metadata": {},
   "outputs": [
    {
     "data": {
      "text/plain": [
       "0       2021\n",
       "1       2021\n",
       "4       2021\n",
       "7       2021\n",
       "8       2021\n",
       "        ... \n",
       "8801    2016\n",
       "8802    2019\n",
       "8804    2019\n",
       "8805    2020\n",
       "8806    2019\n",
       "Name: date_added, Length: 7964, dtype: int64"
      ]
     },
     "execution_count": 343,
     "metadata": {},
     "output_type": "execute_result"
    }
   ],
   "source": [
    "pd.to_datetime(df['date_added']).dt.year"
   ]
  },
  {
   "cell_type": "markdown",
   "id": "8bec353e",
   "metadata": {},
   "source": [
    "Сгруппируем данные по годам, используя предыдущее преобразование."
   ]
  },
  {
   "cell_type": "code",
   "execution_count": 344,
   "id": "b89dc301",
   "metadata": {},
   "outputs": [],
   "source": [
    "content_years=df.groupby(pd.to_datetime(df['date_added']).dt.year)['date_added'].count()"
   ]
  },
  {
   "cell_type": "code",
   "execution_count": 345,
   "id": "883efd41",
   "metadata": {},
   "outputs": [
    {
     "data": {
      "text/plain": [
       "date_added\n",
       "2008       2\n",
       "2009       2\n",
       "2010       1\n",
       "2011      13\n",
       "2012       3\n",
       "2013      11\n",
       "2014      24\n",
       "2015      79\n",
       "2016     408\n",
       "2017    1122\n",
       "2018    1530\n",
       "2019    1858\n",
       "2020    1771\n",
       "2021    1140\n",
       "Name: date_added, dtype: int64"
      ]
     },
     "execution_count": 345,
     "metadata": {},
     "output_type": "execute_result"
    }
   ],
   "source": [
    "content_years"
   ]
  },
  {
   "cell_type": "code",
   "execution_count": 347,
   "id": "fd912ff5",
   "metadata": {},
   "outputs": [
    {
     "data": {
      "image/png": "[encoded data removed]",
      "text/plain": [
       "<Figure size 576x360 with 1 Axes>"
      ]
     },
     "metadata": {
      "needs_background": "light"
     },
     "output_type": "display_data"
    }
   ],
   "source": [
    "content_years.plot(figsize=(8, 5))\n",
    "plt.show()"
   ]
  },
  {
   "cell_type": "markdown",
   "id": "7e86181a",
   "metadata": {},
   "source": [
    "<b>Вывод:</b> </br>\n",
    "На графике видем, что наибольшее количество фильмов и ТВ-шоу было добавлено в 2019 году </br>"
   ]
  },
  {
   "cell_type": "markdown",
   "id": "af913f67",
   "metadata": {},
   "source": [
    "### 4) Посмотрим самые распространенные ограничения к просмотру за все время"
   ]
  },
  {
   "cell_type": "code",
   "execution_count": 348,
   "id": "0d3b1d97",
   "metadata": {},
   "outputs": [],
   "source": [
    "content_rating=df.groupby('rating')['rating'].count()"
   ]
  },
  {
   "cell_type": "code",
   "execution_count": 349,
   "id": "1f43fd99",
   "metadata": {},
   "outputs": [
    {
     "data": {
      "text/plain": [
       "rating\n",
       "G             41\n",
       "NC-17          3\n",
       "NR            79\n",
       "PG           281\n",
       "PG-13        482\n",
       "R            788\n",
       "TV-14       1927\n",
       "TV-G         190\n",
       "TV-MA       2929\n",
       "TV-PG        771\n",
       "TV-Y         227\n",
       "TV-Y7        235\n",
       "TV-Y7-FV       5\n",
       "UR             3\n",
       "unknown        3\n",
       "Name: rating, dtype: int64"
      ]
     },
     "execution_count": 349,
     "metadata": {},
     "output_type": "execute_result"
    }
   ],
   "source": [
    "content_rating"
   ]
  },
  {
   "cell_type": "code",
   "execution_count": 350,
   "id": "898ab3e8",
   "metadata": {},
   "outputs": [
    {
     "data": {
      "image/png": "[encoded data removed]",
      "text/plain": [
       "<Figure size 576x360 with 1 Axes>"
      ]
     },
     "metadata": {
      "needs_background": "light"
     },
     "output_type": "display_data"
    }
   ],
   "source": [
    "content_rating.plot.bar(figsize=(8, 5))\n",
    "plt.show()"
   ]
  },
  {
   "cell_type": "markdown",
   "id": "60c34dac",
   "metadata": {},
   "source": [
    "<b>Вывод:</b> </br>\n",
    "Можно отметить, что большая часть контента на Netflix имеет рейтинг TV-MA. TV-MA в Соединенных Штатах в соответствии с телевизионными родительскими рекомендациями означает контент для зрелой аудитории. </br>"
   ]
  },
  {
   "cell_type": "markdown",
   "id": "c9c8e83d",
   "metadata": {},
   "source": [
    "### 5) Построим график изменения количества контента разных типов на протяжении 2008-2021 года"
   ]
  },
  {
   "cell_type": "code",
   "execution_count": 351,
   "id": "55b2b5f8",
   "metadata": {},
   "outputs": [],
   "source": [
    "content_types=df.groupby([pd.to_datetime(df['date_added']).dt.year, 'type'])['type'].count().unstack(level=1)"
   ]
  },
  {
   "cell_type": "code",
   "execution_count": 352,
   "id": "d85b2946",
   "metadata": {},
   "outputs": [
    {
     "data": {
      "text/html": [
       "<div>\n",
       "<style scoped>\n",
       "    .dataframe tbody tr th:only-of-type {\n",
       "        vertical-align: middle;\n",
       "    }\n",
       "\n",
       "    .dataframe tbody tr th {\n",
       "        vertical-align: top;\n",
       "    }\n",
       "\n",
       "    .dataframe thead th {\n",
       "        text-align: right;\n",
       "    }\n",
       "</style>\n",
       "<table border=\"1\" class=\"dataframe\">\n",
       "  <thead>\n",
       "    <tr style=\"text-align: right;\">\n",
       "      <th>type</th>\n",
       "      <th>Movie</th>\n",
       "      <th>TV Show</th>\n",
       "    </tr>\n",
       "    <tr>\n",
       "      <th>date_added</th>\n",
       "      <th></th>\n",
       "      <th></th>\n",
       "    </tr>\n",
       "  </thead>\n",
       "  <tbody>\n",
       "    <tr>\n",
       "      <th>2008</th>\n",
       "      <td>1.0</td>\n",
       "      <td>1.0</td>\n",
       "    </tr>\n",
       "    <tr>\n",
       "      <th>2009</th>\n",
       "      <td>2.0</td>\n",
       "      <td>NaN</td>\n",
       "    </tr>\n",
       "    <tr>\n",
       "      <th>2010</th>\n",
       "      <td>1.0</td>\n",
       "      <td>NaN</td>\n",
       "    </tr>\n",
       "    <tr>\n",
       "      <th>2011</th>\n",
       "      <td>13.0</td>\n",
       "      <td>NaN</td>\n",
       "    </tr>\n",
       "    <tr>\n",
       "      <th>2012</th>\n",
       "      <td>3.0</td>\n",
       "      <td>NaN</td>\n",
       "    </tr>\n",
       "    <tr>\n",
       "      <th>2013</th>\n",
       "      <td>6.0</td>\n",
       "      <td>5.0</td>\n",
       "    </tr>\n",
       "    <tr>\n",
       "      <th>2014</th>\n",
       "      <td>19.0</td>\n",
       "      <td>5.0</td>\n",
       "    </tr>\n",
       "    <tr>\n",
       "      <th>2015</th>\n",
       "      <td>54.0</td>\n",
       "      <td>25.0</td>\n",
       "    </tr>\n",
       "    <tr>\n",
       "      <th>2016</th>\n",
       "      <td>242.0</td>\n",
       "      <td>166.0</td>\n",
       "    </tr>\n",
       "    <tr>\n",
       "      <th>2017</th>\n",
       "      <td>813.0</td>\n",
       "      <td>309.0</td>\n",
       "    </tr>\n",
       "    <tr>\n",
       "      <th>2018</th>\n",
       "      <td>1192.0</td>\n",
       "      <td>338.0</td>\n",
       "    </tr>\n",
       "    <tr>\n",
       "      <th>2019</th>\n",
       "      <td>1349.0</td>\n",
       "      <td>509.0</td>\n",
       "    </tr>\n",
       "    <tr>\n",
       "      <th>2020</th>\n",
       "      <td>1223.0</td>\n",
       "      <td>548.0</td>\n",
       "    </tr>\n",
       "    <tr>\n",
       "      <th>2021</th>\n",
       "      <td>770.0</td>\n",
       "      <td>370.0</td>\n",
       "    </tr>\n",
       "  </tbody>\n",
       "</table>\n",
       "</div>"
      ],
      "text/plain": [
       "type         Movie  TV Show\n",
       "date_added                 \n",
       "2008           1.0      1.0\n",
       "2009           2.0      NaN\n",
       "2010           1.0      NaN\n",
       "2011          13.0      NaN\n",
       "2012           3.0      NaN\n",
       "2013           6.0      5.0\n",
       "2014          19.0      5.0\n",
       "2015          54.0     25.0\n",
       "2016         242.0    166.0\n",
       "2017         813.0    309.0\n",
       "2018        1192.0    338.0\n",
       "2019        1349.0    509.0\n",
       "2020        1223.0    548.0\n",
       "2021         770.0    370.0"
      ]
     },
     "execution_count": 352,
     "metadata": {},
     "output_type": "execute_result"
    }
   ],
   "source": [
    "content_types"
   ]
  },
  {
   "cell_type": "code",
   "execution_count": 353,
   "id": "eb02e7b3",
   "metadata": {},
   "outputs": [
    {
     "data": {
      "image/png": "[encoded data removed]",
      "text/plain": [
       "<Figure size 576x360 with 1 Axes>"
      ]
     },
     "metadata": {
      "needs_background": "light"
     },
     "output_type": "display_data"
    }
   ],
   "source": [
    "content_types.plot(figsize=(8, 5))\n",
    "plt.show()"
   ]
  },
  {
   "cell_type": "markdown",
   "id": "20d3e49b",
   "metadata": {},
   "source": [
    "<b>Вывод:</b> </br>\n",
    "Эта линейная диаграмма сравнивает количество фильмов и телешоу, добавленных на стриминговый сервис с 2008 по 2021 год.</br>\n",
    "Мы видим, что фильмы добавлялись каждый год, их количество всегда больше или равно количеству ТВ-шоу.</br>\n",
    "Причем первые 5 лет на сервис добавлялись только фильмы."
   ]
  }
 ],
 "metadata": {
  "kernelspec": {
   "display_name": "Python 3 (ipykernel)",
   "language": "python",
   "name": "python3"
  },
  "language_info": {
   "codemirror_mode": {
    "name": "ipython",
    "version": 3
   },
   "file_extension": ".py",
   "mimetype": "text/x-python",
   "name": "python",
   "nbconvert_exporter": "python",
   "pygments_lexer": "ipython3",
   "version": "3.9.12"
  }
 },
 "nbformat": 4,
 "nbformat_minor": 5
}
